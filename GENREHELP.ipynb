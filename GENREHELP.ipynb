{
 "cells": [
  {
   "cell_type": "code",
   "execution_count": 96,
   "id": "10740cde-bbb5-4787-9795-0a5f4889f716",
   "metadata": {},
   "outputs": [],
   "source": [
    "import numpy as np\n",
    "import pandas as pd\n",
    "import matplotlib.pyplot as plt\n",
    "import seaborn as sb"
   ]
  },
  {
   "cell_type": "code",
   "execution_count": 97,
   "id": "dad7c099-d461-47de-bc0a-4bc7e029ece1",
   "metadata": {},
   "outputs": [],
   "source": [
    "#raw_data = pd.read_csv(r\"C:\\Users\\Dreamcore\\OneDrive\\Desktop\\MAL Anime Top 10000 Details.csv.zip\")\n",
    "raw_data = pd.read_csv(r\"MAL Anime Top 10000 Details.csv\")\n",
    "new_data = pd.DataFrame(raw_data[[\"Anime Title\",\"Type\",\"Episodes\",\"Aired\",\"Producers\",\"Studios\",\n",
    "                                  \"Source\",\"Genres\",\"Score\",\"Members\",\"Favorites\"]])\n",
    "TV_data = new_data.loc[new_data[\"Type\"]==\"TV\"]\n",
    "Movie_data = new_data.loc[new_data[\"Type\"]==\"Movie\"]"
   ]
  },
  {
   "cell_type": "code",
   "execution_count": 98,
   "id": "273c9273-9b23-4f57-aecc-0a57877a8bb0",
   "metadata": {},
   "outputs": [
    {
     "data": {
      "text/html": [
       "<div>\n",
       "<style scoped>\n",
       "    .dataframe tbody tr th:only-of-type {\n",
       "        vertical-align: middle;\n",
       "    }\n",
       "\n",
       "    .dataframe tbody tr th {\n",
       "        vertical-align: top;\n",
       "    }\n",
       "\n",
       "    .dataframe thead th {\n",
       "        text-align: right;\n",
       "    }\n",
       "</style>\n",
       "<table border=\"1\" class=\"dataframe\">\n",
       "  <thead>\n",
       "    <tr style=\"text-align: right;\">\n",
       "      <th></th>\n",
       "      <th>Anime Title</th>\n",
       "      <th>MAL Url</th>\n",
       "      <th>English</th>\n",
       "      <th>Japanese</th>\n",
       "      <th>Type</th>\n",
       "      <th>Episodes</th>\n",
       "      <th>Status</th>\n",
       "      <th>Aired</th>\n",
       "      <th>Premiered</th>\n",
       "      <th>Broadcast</th>\n",
       "      <th>...</th>\n",
       "      <th>Source</th>\n",
       "      <th>Genres</th>\n",
       "      <th>Duration</th>\n",
       "      <th>Rating</th>\n",
       "      <th>Score</th>\n",
       "      <th>Ranking</th>\n",
       "      <th>Popularity</th>\n",
       "      <th>Members</th>\n",
       "      <th>Favorites</th>\n",
       "      <th>Summary</th>\n",
       "    </tr>\n",
       "  </thead>\n",
       "  <tbody>\n",
       "    <tr>\n",
       "      <th>0</th>\n",
       "      <td>Fullmetal Alchemist: Brotherhood</td>\n",
       "      <td>https://myanimelist.net/anime/5114/Fullmetal_A...</td>\n",
       "      <td>Fullmetal Alchemist: Brotherhood</td>\n",
       "      <td>鋼の錬金術師 FULLMETAL ALCHEMIST</td>\n",
       "      <td>TV</td>\n",
       "      <td>64</td>\n",
       "      <td>Finished Airing</td>\n",
       "      <td>Apr 5, 2009 to Jul 4, 2010</td>\n",
       "      <td>Spring 2009</td>\n",
       "      <td>Sundays at 17:00 (JST)</td>\n",
       "      <td>...</td>\n",
       "      <td>Manga</td>\n",
       "      <td>Action, Military, Adventure, Comedy, Drama, Ma...</td>\n",
       "      <td>24 min. per ep.</td>\n",
       "      <td>R - 17+ (violence &amp; profanity)</td>\n",
       "      <td>9.22</td>\n",
       "      <td>1</td>\n",
       "      <td>4</td>\n",
       "      <td>2025613</td>\n",
       "      <td>167812</td>\n",
       "      <td>\"In order for something to be obtained, someth...</td>\n",
       "    </tr>\n",
       "    <tr>\n",
       "      <th>1</th>\n",
       "      <td>Steins;Gate</td>\n",
       "      <td>https://myanimelist.net/anime/9253/Steins_Gate</td>\n",
       "      <td>Steins;Gate</td>\n",
       "      <td>STEINS;GATE</td>\n",
       "      <td>TV</td>\n",
       "      <td>24</td>\n",
       "      <td>Finished Airing</td>\n",
       "      <td>Apr 6, 2011 to Sep 14, 2011</td>\n",
       "      <td>Spring 2011</td>\n",
       "      <td>Wednesdays at 02:05 (JST)</td>\n",
       "      <td>...</td>\n",
       "      <td>Visual novel</td>\n",
       "      <td>Thriller, Sci-Fi</td>\n",
       "      <td>24 min. per ep.</td>\n",
       "      <td>PG-13 - Teens 13 or older</td>\n",
       "      <td>9.12</td>\n",
       "      <td>2</td>\n",
       "      <td>8</td>\n",
       "      <td>1636151</td>\n",
       "      <td>139909</td>\n",
       "      <td>The self-proclaimed mad scientist Rintarou Oka...</td>\n",
       "    </tr>\n",
       "    <tr>\n",
       "      <th>2</th>\n",
       "      <td>Gintama°</td>\n",
       "      <td>https://myanimelist.net/anime/28977/Gintama°</td>\n",
       "      <td>Gintama Season 4</td>\n",
       "      <td>銀魂°</td>\n",
       "      <td>TV</td>\n",
       "      <td>51</td>\n",
       "      <td>Finished Airing</td>\n",
       "      <td>Apr 8, 2015 to Mar 30, 2016</td>\n",
       "      <td>Spring 2015</td>\n",
       "      <td>Wednesdays at 18:00 (JST)</td>\n",
       "      <td>...</td>\n",
       "      <td>Manga</td>\n",
       "      <td>Action, Comedy, Historical, Parody, Samurai, S...</td>\n",
       "      <td>24 min. per ep.</td>\n",
       "      <td>PG-13 - Teens 13 or older</td>\n",
       "      <td>9.11</td>\n",
       "      <td>3</td>\n",
       "      <td>330</td>\n",
       "      <td>363879</td>\n",
       "      <td>10353</td>\n",
       "      <td>Gintoki, Shinpachi, and Kagura return as the f...</td>\n",
       "    </tr>\n",
       "    <tr>\n",
       "      <th>3</th>\n",
       "      <td>Hunter x Hunter (2011)</td>\n",
       "      <td>https://myanimelist.net/anime/11061/Hunter_x_H...</td>\n",
       "      <td>Hunter x Hunter</td>\n",
       "      <td>HUNTER×HUNTER（ハンター×ハンター）</td>\n",
       "      <td>TV</td>\n",
       "      <td>148</td>\n",
       "      <td>Finished Airing</td>\n",
       "      <td>Oct 2, 2011 to Sep 24, 2014</td>\n",
       "      <td>Fall 2011</td>\n",
       "      <td>Sundays at 10:55 (JST)</td>\n",
       "      <td>...</td>\n",
       "      <td>Manga</td>\n",
       "      <td>Action, Adventure, Fantasy, Shounen, Super Power</td>\n",
       "      <td>23 min. per ep.</td>\n",
       "      <td>PG-13 - Teens 13 or older</td>\n",
       "      <td>9.11</td>\n",
       "      <td>4</td>\n",
       "      <td>14</td>\n",
       "      <td>1459320</td>\n",
       "      <td>130492</td>\n",
       "      <td>Hunter x Hunter is set in a world where Hunter...</td>\n",
       "    </tr>\n",
       "    <tr>\n",
       "      <th>4</th>\n",
       "      <td>Ginga Eiyuu Densetsu</td>\n",
       "      <td>https://myanimelist.net/anime/820/Ginga_Eiyuu_...</td>\n",
       "      <td>Legend of the Galactic Heroes</td>\n",
       "      <td>銀河英雄伝説</td>\n",
       "      <td>OVA</td>\n",
       "      <td>110</td>\n",
       "      <td>Finished Airing</td>\n",
       "      <td>Jan 8, 1988 to Mar 17, 1997</td>\n",
       "      <td>NaN</td>\n",
       "      <td>NaN</td>\n",
       "      <td>...</td>\n",
       "      <td>Novel</td>\n",
       "      <td>Military, Sci-Fi, Space, Drama</td>\n",
       "      <td>26 min. per ep.</td>\n",
       "      <td>R - 17+ (violence &amp; profanity)</td>\n",
       "      <td>9.10</td>\n",
       "      <td>5</td>\n",
       "      <td>629</td>\n",
       "      <td>212162</td>\n",
       "      <td>13100</td>\n",
       "      <td>The 150-year-long stalemate between the two in...</td>\n",
       "    </tr>\n",
       "    <tr>\n",
       "      <th>...</th>\n",
       "      <td>...</td>\n",
       "      <td>...</td>\n",
       "      <td>...</td>\n",
       "      <td>...</td>\n",
       "      <td>...</td>\n",
       "      <td>...</td>\n",
       "      <td>...</td>\n",
       "      <td>...</td>\n",
       "      <td>...</td>\n",
       "      <td>...</td>\n",
       "      <td>...</td>\n",
       "      <td>...</td>\n",
       "      <td>...</td>\n",
       "      <td>...</td>\n",
       "      <td>...</td>\n",
       "      <td>...</td>\n",
       "      <td>...</td>\n",
       "      <td>...</td>\n",
       "      <td>...</td>\n",
       "      <td>...</td>\n",
       "      <td>...</td>\n",
       "    </tr>\n",
       "    <tr>\n",
       "      <th>9995</th>\n",
       "      <td>Roba Chotto Suneta</td>\n",
       "      <td>https://myanimelist.net/anime/30076/Roba_Chott...</td>\n",
       "      <td>NaN</td>\n",
       "      <td>ロバちょっとすねた</td>\n",
       "      <td>Music</td>\n",
       "      <td>1</td>\n",
       "      <td>Finished Airing</td>\n",
       "      <td>Apr 3, 1983</td>\n",
       "      <td>NaN</td>\n",
       "      <td>NaN</td>\n",
       "      <td>...</td>\n",
       "      <td>Original</td>\n",
       "      <td>Kids, Music</td>\n",
       "      <td>2 min.</td>\n",
       "      <td>G - All Ages</td>\n",
       "      <td>5.24</td>\n",
       "      <td>9997</td>\n",
       "      <td>13717</td>\n",
       "      <td>255</td>\n",
       "      <td>0</td>\n",
       "      <td>A music video for the song by Agnes Chan that ...</td>\n",
       "    </tr>\n",
       "    <tr>\n",
       "      <th>9996</th>\n",
       "      <td>Ski Jumping Pairs: Road to Torino 2006</td>\n",
       "      <td>https://myanimelist.net/anime/10627/Ski_Jumpin...</td>\n",
       "      <td>NaN</td>\n",
       "      <td>スキージャンプ・ペア ~Road to TORINO 2006~</td>\n",
       "      <td>Movie</td>\n",
       "      <td>1</td>\n",
       "      <td>Finished Airing</td>\n",
       "      <td>Jan 28, 2006</td>\n",
       "      <td>NaN</td>\n",
       "      <td>NaN</td>\n",
       "      <td>...</td>\n",
       "      <td>Unknown</td>\n",
       "      <td>Comedy, Sports</td>\n",
       "      <td>4 min.</td>\n",
       "      <td>G - All Ages</td>\n",
       "      <td>5.24</td>\n",
       "      <td>9998</td>\n",
       "      <td>12571</td>\n",
       "      <td>370</td>\n",
       "      <td>1</td>\n",
       "      <td>A CG animated film by Riichiro Mashima.\\n\\r\\nA...</td>\n",
       "    </tr>\n",
       "    <tr>\n",
       "      <th>9997</th>\n",
       "      <td>Tentoumushi no Otomurai</td>\n",
       "      <td>https://myanimelist.net/anime/12521/Tentoumush...</td>\n",
       "      <td>Ladybirds' Requiem</td>\n",
       "      <td>てんとう虫のおとむらい</td>\n",
       "      <td>Movie</td>\n",
       "      <td>1</td>\n",
       "      <td>Finished Airing</td>\n",
       "      <td>2006</td>\n",
       "      <td>NaN</td>\n",
       "      <td>NaN</td>\n",
       "      <td>...</td>\n",
       "      <td>Original</td>\n",
       "      <td>Music, Dementia</td>\n",
       "      <td>5 min.</td>\n",
       "      <td>G - All Ages</td>\n",
       "      <td>5.24</td>\n",
       "      <td>9999</td>\n",
       "      <td>11865</td>\n",
       "      <td>494</td>\n",
       "      <td>2</td>\n",
       "      <td>The story of the animation begins from a girl,...</td>\n",
       "    </tr>\n",
       "    <tr>\n",
       "      <th>9998</th>\n",
       "      <td>The Baby Birds of Norman McLaren</td>\n",
       "      <td>https://myanimelist.net/anime/28765/The_Baby_B...</td>\n",
       "      <td>NaN</td>\n",
       "      <td>The Baby Birds of Norman McLaren</td>\n",
       "      <td>Movie</td>\n",
       "      <td>1</td>\n",
       "      <td>Finished Airing</td>\n",
       "      <td>2014</td>\n",
       "      <td>NaN</td>\n",
       "      <td>NaN</td>\n",
       "      <td>...</td>\n",
       "      <td>Unknown</td>\n",
       "      <td>Music</td>\n",
       "      <td>3 min.</td>\n",
       "      <td>G - All Ages</td>\n",
       "      <td>5.24</td>\n",
       "      <td>10000</td>\n",
       "      <td>12098</td>\n",
       "      <td>452</td>\n",
       "      <td>0</td>\n",
       "      <td>Celebrating the 100th year of birth of Norman ...</td>\n",
       "    </tr>\n",
       "    <tr>\n",
       "      <th>9999</th>\n",
       "      <td>Kamikaze Kaitou Jeanne</td>\n",
       "      <td>https://myanimelist.net/anime/142/Kamikaze_Kai...</td>\n",
       "      <td>NaN</td>\n",
       "      <td>神風怪盗ジャンヌ</td>\n",
       "      <td>TV</td>\n",
       "      <td>44</td>\n",
       "      <td>Finished Airing</td>\n",
       "      <td>Feb 13, 1999 to Jan 29, 2000</td>\n",
       "      <td>Winter 1999</td>\n",
       "      <td>Unknown</td>\n",
       "      <td>...</td>\n",
       "      <td>Manga</td>\n",
       "      <td>Adventure, Comedy, Demons, Drama, Fantasy, Mag...</td>\n",
       "      <td>24 min. per ep.</td>\n",
       "      <td>PG-13 - Teens 13 or older</td>\n",
       "      <td>7.45</td>\n",
       "      <td>1735</td>\n",
       "      <td>2323</td>\n",
       "      <td>44497</td>\n",
       "      <td>478</td>\n",
       "      <td>A normal looking high school girl on the outsi...</td>\n",
       "    </tr>\n",
       "  </tbody>\n",
       "</table>\n",
       "<p>10000 rows × 23 columns</p>\n",
       "</div>"
      ],
      "text/plain": [
       "                                 Anime Title  \\\n",
       "0           Fullmetal Alchemist: Brotherhood   \n",
       "1                                Steins;Gate   \n",
       "2                                   Gintama°   \n",
       "3                     Hunter x Hunter (2011)   \n",
       "4                       Ginga Eiyuu Densetsu   \n",
       "...                                      ...   \n",
       "9995                      Roba Chotto Suneta   \n",
       "9996  Ski Jumping Pairs: Road to Torino 2006   \n",
       "9997                 Tentoumushi no Otomurai   \n",
       "9998        The Baby Birds of Norman McLaren   \n",
       "9999                  Kamikaze Kaitou Jeanne   \n",
       "\n",
       "                                                MAL Url  \\\n",
       "0     https://myanimelist.net/anime/5114/Fullmetal_A...   \n",
       "1        https://myanimelist.net/anime/9253/Steins_Gate   \n",
       "2          https://myanimelist.net/anime/28977/Gintama°   \n",
       "3     https://myanimelist.net/anime/11061/Hunter_x_H...   \n",
       "4     https://myanimelist.net/anime/820/Ginga_Eiyuu_...   \n",
       "...                                                 ...   \n",
       "9995  https://myanimelist.net/anime/30076/Roba_Chott...   \n",
       "9996  https://myanimelist.net/anime/10627/Ski_Jumpin...   \n",
       "9997  https://myanimelist.net/anime/12521/Tentoumush...   \n",
       "9998  https://myanimelist.net/anime/28765/The_Baby_B...   \n",
       "9999  https://myanimelist.net/anime/142/Kamikaze_Kai...   \n",
       "\n",
       "                               English                          Japanese  \\\n",
       "0     Fullmetal Alchemist: Brotherhood        鋼の錬金術師 FULLMETAL ALCHEMIST   \n",
       "1                          Steins;Gate                       STEINS;GATE   \n",
       "2                     Gintama Season 4                               銀魂°   \n",
       "3                      Hunter x Hunter          HUNTER×HUNTER（ハンター×ハンター）   \n",
       "4        Legend of the Galactic Heroes                            銀河英雄伝説   \n",
       "...                                ...                               ...   \n",
       "9995                               NaN                         ロバちょっとすねた   \n",
       "9996                               NaN  スキージャンプ・ペア ~Road to TORINO 2006~   \n",
       "9997                Ladybirds' Requiem                       てんとう虫のおとむらい   \n",
       "9998                               NaN  The Baby Birds of Norman McLaren   \n",
       "9999                               NaN                          神風怪盗ジャンヌ   \n",
       "\n",
       "       Type Episodes           Status                         Aired  \\\n",
       "0        TV       64  Finished Airing    Apr 5, 2009 to Jul 4, 2010   \n",
       "1        TV       24  Finished Airing   Apr 6, 2011 to Sep 14, 2011   \n",
       "2        TV       51  Finished Airing   Apr 8, 2015 to Mar 30, 2016   \n",
       "3        TV      148  Finished Airing   Oct 2, 2011 to Sep 24, 2014   \n",
       "4       OVA      110  Finished Airing   Jan 8, 1988 to Mar 17, 1997   \n",
       "...     ...      ...              ...                           ...   \n",
       "9995  Music        1  Finished Airing                   Apr 3, 1983   \n",
       "9996  Movie        1  Finished Airing                  Jan 28, 2006   \n",
       "9997  Movie        1  Finished Airing                          2006   \n",
       "9998  Movie        1  Finished Airing                          2014   \n",
       "9999     TV       44  Finished Airing  Feb 13, 1999 to Jan 29, 2000   \n",
       "\n",
       "        Premiered                  Broadcast  ...        Source  \\\n",
       "0     Spring 2009     Sundays at 17:00 (JST)  ...         Manga   \n",
       "1     Spring 2011  Wednesdays at 02:05 (JST)  ...  Visual novel   \n",
       "2     Spring 2015  Wednesdays at 18:00 (JST)  ...         Manga   \n",
       "3       Fall 2011     Sundays at 10:55 (JST)  ...         Manga   \n",
       "4             NaN                        NaN  ...         Novel   \n",
       "...           ...                        ...  ...           ...   \n",
       "9995          NaN                        NaN  ...      Original   \n",
       "9996          NaN                        NaN  ...       Unknown   \n",
       "9997          NaN                        NaN  ...      Original   \n",
       "9998          NaN                        NaN  ...       Unknown   \n",
       "9999  Winter 1999                    Unknown  ...         Manga   \n",
       "\n",
       "                                                 Genres         Duration  \\\n",
       "0     Action, Military, Adventure, Comedy, Drama, Ma...  24 min. per ep.   \n",
       "1                                      Thriller, Sci-Fi  24 min. per ep.   \n",
       "2     Action, Comedy, Historical, Parody, Samurai, S...  24 min. per ep.   \n",
       "3      Action, Adventure, Fantasy, Shounen, Super Power  23 min. per ep.   \n",
       "4                        Military, Sci-Fi, Space, Drama  26 min. per ep.   \n",
       "...                                                 ...              ...   \n",
       "9995                                        Kids, Music           2 min.   \n",
       "9996                                     Comedy, Sports           4 min.   \n",
       "9997                                    Music, Dementia           5 min.   \n",
       "9998                                              Music           3 min.   \n",
       "9999  Adventure, Comedy, Demons, Drama, Fantasy, Mag...  24 min. per ep.   \n",
       "\n",
       "                              Rating Score Ranking Popularity  Members  \\\n",
       "0     R - 17+ (violence & profanity)  9.22       1          4  2025613   \n",
       "1          PG-13 - Teens 13 or older  9.12       2          8  1636151   \n",
       "2          PG-13 - Teens 13 or older  9.11       3        330   363879   \n",
       "3          PG-13 - Teens 13 or older  9.11       4         14  1459320   \n",
       "4     R - 17+ (violence & profanity)  9.10       5        629   212162   \n",
       "...                              ...   ...     ...        ...      ...   \n",
       "9995                    G - All Ages  5.24    9997      13717      255   \n",
       "9996                    G - All Ages  5.24    9998      12571      370   \n",
       "9997                    G - All Ages  5.24    9999      11865      494   \n",
       "9998                    G - All Ages  5.24   10000      12098      452   \n",
       "9999       PG-13 - Teens 13 or older  7.45    1735       2323    44497   \n",
       "\n",
       "      Favorites                                            Summary  \n",
       "0        167812  \"In order for something to be obtained, someth...  \n",
       "1        139909  The self-proclaimed mad scientist Rintarou Oka...  \n",
       "2         10353  Gintoki, Shinpachi, and Kagura return as the f...  \n",
       "3        130492  Hunter x Hunter is set in a world where Hunter...  \n",
       "4         13100  The 150-year-long stalemate between the two in...  \n",
       "...         ...                                                ...  \n",
       "9995          0  A music video for the song by Agnes Chan that ...  \n",
       "9996          1  A CG animated film by Riichiro Mashima.\\n\\r\\nA...  \n",
       "9997          2  The story of the animation begins from a girl,...  \n",
       "9998          0  Celebrating the 100th year of birth of Norman ...  \n",
       "9999        478  A normal looking high school girl on the outsi...  \n",
       "\n",
       "[10000 rows x 23 columns]"
      ]
     },
     "metadata": {},
     "output_type": "display_data"
    }
   ],
   "source": [
    "display(raw_data)"
   ]
  },
  {
   "cell_type": "code",
   "execution_count": 99,
   "id": "1cbe40fe-a749-4eb7-9e41-ec094fc55206",
   "metadata": {},
   "outputs": [
    {
     "data": {
      "text/plain": [
       "<seaborn.axisgrid.FacetGrid at 0x281ef75e340>"
      ]
     },
     "execution_count": 99,
     "metadata": {},
     "output_type": "execute_result"
    }
   ],
   "source": [
    "\n",
    "sb.catplot(y = 'Studios', data = TV_data[TV_data.groupby('Studios').Studios.transform('count') > 25], kind='count')"
   ]
  },
  {
   "cell_type": "code",
   "execution_count": 100,
   "id": "e084f293-90dc-4fc1-8c83-d88085f4cc2b",
   "metadata": {},
   "outputs": [
    {
     "data": {
      "text/plain": [
       "11"
      ]
     },
     "execution_count": 100,
     "metadata": {},
     "output_type": "execute_result"
    }
   ],
   "source": [
    "TV_Studios_array=TV_data[\"Studios\"].unique()\n",
    "np.where(TV_Studios_array == TV_data[\"Studios\"].iloc[27])[0][0]"
   ]
  },
  {
   "cell_type": "code",
   "execution_count": 101,
   "id": "a8694a79-1722-465e-8bac-75ce705d7c7c",
   "metadata": {},
   "outputs": [
    {
     "data": {
      "text/plain": [
       "'Action, Military, Adventure, Comedy, Drama, Magic, Fantasy, Shounen'"
      ]
     },
     "execution_count": 101,
     "metadata": {},
     "output_type": "execute_result"
    }
   ],
   "source": [
    "TV_data[\"Genres\"].iloc[0]"
   ]
  },
  {
   "cell_type": "code",
   "execution_count": 102,
   "id": "01fae8f7-6c35-4d23-9efc-4f760571f929",
   "metadata": {},
   "outputs": [],
   "source": [
    "source = TV_data['Source']\n",
    "genres = TV_data['Genres']\n",
    "score = TV_data['Score']\n",
    "members = TV_data['Members']\n",
    "fav = TV_data['Favorites']"
   ]
  },
  {
   "cell_type": "code",
   "execution_count": 103,
   "id": "543d16c0-34c2-4072-85d1-ebd16efeaae4",
   "metadata": {},
   "outputs": [
    {
     "data": {
      "text/plain": [
       "0       9.22\n",
       "1       9.12\n",
       "2       9.11\n",
       "3       9.11\n",
       "5       9.08\n",
       "        ... \n",
       "9978    5.25\n",
       "9983    5.25\n",
       "9985    5.25\n",
       "9987    5.25\n",
       "9999    7.45\n",
       "Name: Score, Length: 3681, dtype: float64"
      ]
     },
     "metadata": {},
     "output_type": "display_data"
    }
   ],
   "source": [
    "display(score)"
   ]
  },
  {
   "cell_type": "code",
   "execution_count": 104,
   "id": "139428e1-30c0-4f29-9405-c4e009d228fd",
   "metadata": {},
   "outputs": [],
   "source": [
    "#make a decision tree for score and fav as they're float alrd"
   ]
  },
  {
   "cell_type": "code",
   "execution_count": 105,
   "id": "1aa0724b-698b-4dfc-9215-4fd2da33b036",
   "metadata": {},
   "outputs": [],
   "source": [
    "from sklearn.tree import DecisionTreeClassifier\n",
    "from sklearn.model_selection import train_test_split\n",
    "from sklearn.metrics import confusion_matrix\n",
    "from sklearn.tree import plot_tree \n",
    "\n",
    "def decTree(pred, res, depth):\n",
    "    X_train, X_test, Y_train, Y_test = train_test_split(pred, res, test_size = 0.2)    \n",
    "    dectree = DecisionTreeClassifier(max_depth = depth)\n",
    "    dectree.fit(X_train, Y_train)\n",
    "    Y_train_pred = dectree.predict(X_train)\n",
    "    Y_test_pred = dectree.predict(X_test)\n",
    "    c = ''.join(list(pred.columns))\n",
    "    d = ''.join(list(res.columns))\n",
    "    cm = confusion_matrix(Y_train, Y_train_pred)\n",
    "    TP = cm[1][1]/(cm[1][1] + cm[1][0])\n",
    "    FP = cm[0][1]/(cm[0][1] + cm[0][0])\n",
    "    cm1 = confusion_matrix(Y_test, Y_test_pred)\n",
    "    TP1 = cm1[1][1]/(cm1[1][1] + cm1[1][0])\n",
    "    FP1 = cm1[0][1]/(cm1[0][1] + cm1[0][0])\n",
    "    print(\"Goodness of Fit of Model \\tTrain Dataset\")\n",
    "    print(\"Classification Accuracy \\t:\", dectree.score(X_train, Y_train))\n",
    "    print(\"True Positive Rate \\t:\", TP)\n",
    "    print(\"False Positive Rate\\t:\", FP)\n",
    "    print()\n",
    "    print(\"Goodness of Fit of Model \\tTest Dataset\")\n",
    "    print(\"Classification Accuracy \\t:\", dectree.score(X_test, Y_test))\n",
    "    print(\"True Positive Rate \\t:\", TP1)\n",
    "    print(\"False Positive Rate\\t:\", FP1)\n",
    "    print()\n",
    "    f, axes = plt.subplots(1, 2, figsize=(12, 4))\n",
    "    sb.heatmap(confusion_matrix(Y_train, Y_train_pred),\n",
    "               annot = True, fmt=\".0f\", annot_kws={\"size\": 18}, ax = axes[0])\n",
    "    sb.heatmap(confusion_matrix(Y_test, Y_test_pred), \n",
    "               annot = True, fmt=\".0f\", annot_kws={\"size\": 18}, ax = axes[1])\n",
    "    f = plt.figure(figsize=(12,12))\n",
    "    plot_tree(dectree, filled=True, rounded=True, \n",
    "              feature_names=[c], \n",
    "              class_names=[\"Ordinary\", d])"
   ]
  },
  {
   "cell_type": "code",
   "execution_count": 106,
   "id": "99ed02a4-761f-4c7d-b8cc-e1bbfdc242c2",
   "metadata": {},
   "outputs": [
    {
     "name": "stdout",
     "output_type": "stream",
     "text": [
      "(3681,)\n"
     ]
    }
   ],
   "source": [
    "print(fav.shape)"
   ]
  },
  {
   "cell_type": "code",
   "execution_count": 107,
   "id": "14d7cd93-d8be-4286-9ad9-4919a1fd08f0",
   "metadata": {},
   "outputs": [
    {
     "data": {
      "text/plain": [
       "0       167812\n",
       "1       139909\n",
       "2        10353\n",
       "3       130492\n",
       "5         6013\n",
       "         ...  \n",
       "9978         1\n",
       "9983         6\n",
       "9985         2\n",
       "9987         3\n",
       "9999       478\n",
       "Name: Favorites, Length: 3681, dtype: int64"
      ]
     },
     "metadata": {},
     "output_type": "display_data"
    }
   ],
   "source": [
    "display(fav)"
   ]
  },
  {
   "cell_type": "code",
   "execution_count": 108,
   "id": "7fb6a3af-7223-4c86-9802-b3c76686a3fa",
   "metadata": {},
   "outputs": [
    {
     "name": "stdout",
     "output_type": "stream",
     "text": [
      "(3681,)\n"
     ]
    }
   ],
   "source": [
    "print(score.shape)"
   ]
  },
  {
   "cell_type": "code",
   "execution_count": 109,
   "id": "160cf8a0-27a6-430e-b7f3-f910866b33f2",
   "metadata": {},
   "outputs": [
    {
     "data": {
      "text/plain": [
       "0       9.22\n",
       "1       9.12\n",
       "2       9.11\n",
       "3       9.11\n",
       "5       9.08\n",
       "        ... \n",
       "9978    5.25\n",
       "9983    5.25\n",
       "9985    5.25\n",
       "9987    5.25\n",
       "9999    7.45\n",
       "Name: Score, Length: 3681, dtype: float64"
      ]
     },
     "metadata": {},
     "output_type": "display_data"
    }
   ],
   "source": [
    "display(score)"
   ]
  },
  {
   "cell_type": "code",
   "execution_count": 110,
   "id": "e6a79104-6eb0-4521-96c3-1024fcb1a4ea",
   "metadata": {},
   "outputs": [],
   "source": [
    "#combine titles and score(set 1) and titles and fav(set 2) tgt\n",
    "#alternatively add another column with header 1 to 3861"
   ]
  },
  {
   "cell_type": "code",
   "execution_count": 111,
   "id": "c1ba3455-3a62-4aaa-80f1-17edfbfe501f",
   "metadata": {},
   "outputs": [],
   "source": [
    "#source: assign each source type to a number"
   ]
  },
  {
   "cell_type": "code",
   "execution_count": 112,
   "id": "8561bb13-7f63-49b5-8027-068b72c37dc5",
   "metadata": {},
   "outputs": [
    {
     "data": {
      "text/plain": [
       "0           Manga\n",
       "1    Visual novel\n",
       "2           Manga\n",
       "3           Manga\n",
       "5           Manga\n",
       "Name: Source, dtype: object"
      ]
     },
     "execution_count": 112,
     "metadata": {},
     "output_type": "execute_result"
    }
   ],
   "source": [
    "source.head()"
   ]
  },
  {
   "cell_type": "code",
   "execution_count": 113,
   "id": "110e8dff-1624-4651-b0bf-df9ffbe35a35",
   "metadata": {},
   "outputs": [
    {
     "data": {
      "text/plain": [
       "count      3681\n",
       "unique       16\n",
       "top       Manga\n",
       "freq       1316\n",
       "Name: Source, dtype: object"
      ]
     },
     "execution_count": 113,
     "metadata": {},
     "output_type": "execute_result"
    }
   ],
   "source": [
    "source.describe()"
   ]
  },
  {
   "cell_type": "code",
   "execution_count": 114,
   "id": "87879576-4951-4b07-871b-b6b0adf588ae",
   "metadata": {},
   "outputs": [
    {
     "data": {
      "text/plain": [
       "Manga            1316\n",
       "Original          813\n",
       "Unknown           333\n",
       "Light novel       330\n",
       "Game              223\n",
       "Visual novel      152\n",
       "4-koma manga      131\n",
       "Novel             119\n",
       "Other              90\n",
       "Web manga          76\n",
       "Card game          37\n",
       "Book               31\n",
       "Music              13\n",
       "Picture book       12\n",
       "Radio               3\n",
       "Digital manga       2\n",
       "Name: Source, dtype: int64"
      ]
     },
     "execution_count": 114,
     "metadata": {},
     "output_type": "execute_result"
    }
   ],
   "source": [
    "source.value_counts()"
   ]
  },
  {
   "cell_type": "code",
   "execution_count": 115,
   "id": "7ce2d9d3-8773-4dfa-937d-72a2b75133aa",
   "metadata": {},
   "outputs": [],
   "source": [
    "#combine manga, 4-koma manga, digital manga and web manga"
   ]
  },
  {
   "cell_type": "code",
   "execution_count": 116,
   "id": "1c2be8dd-2405-40db-abf0-a6601f00e6e4",
   "metadata": {},
   "outputs": [],
   "source": [
    "#if manga, source = 1"
   ]
  },
  {
   "cell_type": "code",
   "execution_count": 61,
   "id": "deb32c39-28d9-4395-acfb-d077eb8f14a7",
   "metadata": {},
   "outputs": [],
   "source": [
    "#visual novel is a form of game"
   ]
  },
  {
   "cell_type": "code",
   "execution_count": 65,
   "id": "2e9a112b-db2e-4074-8017-6a8b17c8437e",
   "metadata": {},
   "outputs": [],
   "source": [
    "#if game/visual novel/card game, source = 2"
   ]
  },
  {
   "cell_type": "code",
   "execution_count": 64,
   "id": "4b430281-c841-43e1-881b-7eeb9ce7b71c",
   "metadata": {},
   "outputs": [],
   "source": [
    "#combine book, picture book, novel and light novel\n",
    "#if book, source = 3"
   ]
  },
  {
   "cell_type": "code",
   "execution_count": 66,
   "id": "0534c30a-b839-44f1-87e2-06bba737a544",
   "metadata": {},
   "outputs": [],
   "source": [
    "#if original, source = 4"
   ]
  },
  {
   "cell_type": "code",
   "execution_count": 67,
   "id": "20869496-0ae4-4566-9d5d-f0958f3f40db",
   "metadata": {},
   "outputs": [],
   "source": [
    "#if unknown/other, source = 5"
   ]
  },
  {
   "cell_type": "code",
   "execution_count": 68,
   "id": "c60d78d4-75df-4779-aa62-03d8cd99059c",
   "metadata": {},
   "outputs": [],
   "source": [
    "#if radio/music (audio-based), source = 6"
   ]
  },
  {
   "cell_type": "code",
   "execution_count": 117,
   "id": "d4e4ea26-cce7-4e84-8a91-f95eb84fb388",
   "metadata": {},
   "outputs": [
    {
     "data": {
      "text/plain": [
       "count       3681\n",
       "unique      2203\n",
       "top       Comedy\n",
       "freq          68\n",
       "Name: Genres, dtype: object"
      ]
     },
     "execution_count": 117,
     "metadata": {},
     "output_type": "execute_result"
    }
   ],
   "source": [
    "genres.describe()"
   ]
  },
  {
   "cell_type": "code",
   "execution_count": 118,
   "id": "dd343eca-3d96-4cf5-84ea-ee860dfa1729",
   "metadata": {},
   "outputs": [
    {
     "data": {
      "text/plain": [
       "Comedy                                                                        68\n",
       "Slice of Life, Comedy                                                         47\n",
       "Comedy, Slice of Life                                                         26\n",
       "Adventure, Fantasy                                                            24\n",
       "Slice of Life, Comedy, School                                                 22\n",
       "                                                                              ..\n",
       "Action, Fantasy, Game, Military, Sci-Fi                                        1\n",
       "Harem, Comedy, Drama, Magic, Romance, Ecchi, Fantasy, School, Seinen           1\n",
       "Harem, Comedy, Romance, Ecchi, Fantasy, Seinen                                 1\n",
       "Harem, Supernatural, Romance, Fantasy, Shoujo                                  1\n",
       "Adventure, Comedy, Demons, Drama, Fantasy, Magic, Mystery, Romance, Shoujo     1\n",
       "Name: Genres, Length: 2203, dtype: int64"
      ]
     },
     "execution_count": 118,
     "metadata": {},
     "output_type": "execute_result"
    }
   ],
   "source": [
    "genres.value_counts()"
   ]
  },
  {
   "cell_type": "code",
   "execution_count": 119,
   "id": "a54eab0e-d1ed-4a16-8751-fa3da76fec25",
   "metadata": {},
   "outputs": [
    {
     "name": "stdout",
     "output_type": "stream",
     "text": [
      "genres: adventure, action, comedy, romance, drama, horror, fantasy, mystery, sports, supernatural, suspense, sci-fi, gourmet, slice-of-life,\n"
     ]
    }
   ],
   "source": [
    "print(\"genres: adventure, action, comedy, romance, drama, horror, fantasy, mystery, sports, supernatural, suspense, sci-fi, gourmet, slice-of-life,\")"
   ]
  },
  {
   "cell_type": "code",
   "execution_count": 130,
   "id": "059a91b7-f62d-4345-927a-aeb244c40d39",
   "metadata": {},
   "outputs": [
    {
     "name": "stdout",
     "output_type": "stream",
     "text": [
      "<class 'pandas.core.series.Series'>\n"
     ]
    }
   ],
   "source": [
    "genre_list = TV_data[\"Genres\"].iloc[1].split(', ')\n",
    "genre_list\n",
    "print(type(TV_data[\"Genres\"]))"
   ]
  },
  {
   "cell_type": "code",
   "execution_count": 124,
   "id": "6e7097e6-0aeb-46ef-92c2-eb94fd45a101",
   "metadata": {},
   "outputs": [
    {
     "data": {
      "text/plain": [
       "0    Action, Military, Adventure, Comedy, Drama, Ma...\n",
       "1                                     Thriller, Sci-Fi\n",
       "2    Action, Comedy, Historical, Parody, Samurai, S...\n",
       "3     Action, Adventure, Fantasy, Shounen, Super Power\n",
       "5    Action, Sci-Fi, Comedy, Historical, Parody, Sa...\n",
       "Name: Genres, dtype: object"
      ]
     },
     "execution_count": 124,
     "metadata": {},
     "output_type": "execute_result"
    }
   ],
   "source": [
    "TV_data[\"Genres\"].head()"
   ]
  },
  {
   "cell_type": "code",
   "execution_count": 126,
   "id": "c4c66d3b-88c3-4413-9509-978196f71e0b",
   "metadata": {},
   "outputs": [
    {
     "ename": "TypeError",
     "evalue": "'type' object is not subscriptable",
     "output_type": "error",
     "traceback": [
      "\u001b[1;31m---------------------------------------------------------------------------\u001b[0m",
      "\u001b[1;31mTypeError\u001b[0m                                 Traceback (most recent call last)",
      "\u001b[1;32m~\\AppData\\Local\\Temp\\ipykernel_35736\\2207963836.py\u001b[0m in \u001b[0;36m<module>\u001b[1;34m\u001b[0m\n\u001b[1;32m----> 1\u001b[1;33m \u001b[1;32mfor\u001b[0m \u001b[0mi\u001b[0m \u001b[1;32min\u001b[0m \u001b[0mrange\u001b[0m \u001b[1;33m[\u001b[0m\u001b[1;36m1\u001b[0m\u001b[1;33m,\u001b[0m\u001b[1;36m3681\u001b[0m\u001b[1;33m]\u001b[0m\u001b[1;33m:\u001b[0m\u001b[1;33m\u001b[0m\u001b[1;33m\u001b[0m\u001b[0m\n\u001b[0m\u001b[0;32m      2\u001b[0m     \u001b[0mgenre_list\u001b[0m \u001b[1;33m=\u001b[0m \u001b[0mTV_data\u001b[0m\u001b[1;33m[\u001b[0m\u001b[1;34m\"Genres\"\u001b[0m\u001b[1;33m]\u001b[0m\u001b[1;33m.\u001b[0m\u001b[0miloc\u001b[0m\u001b[1;33m[\u001b[0m\u001b[0mi\u001b[0m\u001b[1;33m]\u001b[0m\u001b[1;33m.\u001b[0m\u001b[0msplit\u001b[0m\u001b[1;33m(\u001b[0m\u001b[1;34m', '\u001b[0m\u001b[1;33m)\u001b[0m\u001b[1;33m\u001b[0m\u001b[1;33m\u001b[0m\u001b[0m\n\u001b[0;32m      3\u001b[0m     \u001b[0mTV_data\u001b[0m\u001b[1;33m[\u001b[0m\u001b[1;34m\"Genres\"\u001b[0m\u001b[1;33m]\u001b[0m\u001b[1;33m.\u001b[0m\u001b[0miloc\u001b[0m\u001b[1;33m[\u001b[0m\u001b[0mi\u001b[0m\u001b[1;33m]\u001b[0m \u001b[1;33m=\u001b[0m \u001b[0mgenre_list\u001b[0m\u001b[1;33m\u001b[0m\u001b[1;33m\u001b[0m\u001b[0m\n",
      "\u001b[1;31mTypeError\u001b[0m: 'type' object is not subscriptable"
     ]
    }
   ],
   "source": [
    "for i in range [1,3681]:\n",
    "    genre_list = TV_data[\"Genres\"].iloc[i].split(', ')\n",
    "    TV_data[\"Genres\"].iloc[i] = genre_list"
   ]
  },
  {
   "cell_type": "code",
   "execution_count": 83,
   "id": "a20a731e-9e63-4ad8-98b0-c6914ae6ea9d",
   "metadata": {},
   "outputs": [
    {
     "data": {
      "text/plain": [
       "str"
      ]
     },
     "execution_count": 83,
     "metadata": {},
     "output_type": "execute_result"
    }
   ],
   "source": [
    "type(TV_data[\"Genres\"][0])"
   ]
  },
  {
   "cell_type": "code",
   "execution_count": 136,
   "id": "22c3ace5-6c1b-4e7b-b96f-ff2f2e03774b",
   "metadata": {},
   "outputs": [
    {
     "data": {
      "text/plain": [
       "4883                  Adventure, Fantasy, Sci-Fi, Shounen\n",
       "4924             Slice of Life, Historical, Drama, School\n",
       "2742                    Adventure, Fantasy, Harem, Shoujo\n",
       "9822                                Seinen, Slice of Life\n",
       "7355    Action, Sci-Fi, Adventure, Music, Super Power,...\n",
       "357                                         Music, Comedy\n",
       "7680            Action, Music, Comedy, Historical, Shoujo\n",
       "382      Action, Game, Sci-Fi, Adventure, Comedy, Fantasy\n",
       "4438    Comedy, Drama, Romance, School, Shoujo Ai, Sli...\n",
       "281     Adventure, Comedy, Demons, Magic, Martial Arts...\n",
       "930                Comedy, School, Shounen, Slice of Life\n",
       "848     Game, Mystery, Psychological, Drama, School, S...\n",
       "4022       Drama, Historical, Kids, Shoujo, Slice of Life\n",
       "1591                                    Adventure, Sci-Fi\n",
       "8447              Comedy, Drama, Mystery, Police, Shounen\n",
       "2093                   Adventure, Fantasy, Magic, Romance\n",
       "7978                                              Fantasy\n",
       "2930      Action, Adventure, Fantasy, Magic, Supernatural\n",
       "984     Action, Sci-Fi, Adventure, Comedy, Drama, Shounen\n",
       "55                             Action, Adventure, Shounen\n",
       "Name: Genres, dtype: object"
      ]
     },
     "execution_count": 136,
     "metadata": {},
     "output_type": "execute_result"
    }
   ],
   "source": [
    "genres.sample(20)"
   ]
  },
  {
   "cell_type": "code",
   "execution_count": 148,
   "id": "cf47f602-0949-49ab-9398-c81e2697b3a0",
   "metadata": {},
   "outputs": [
    {
     "data": {
      "text/plain": [
       "str"
      ]
     },
     "execution_count": 148,
     "metadata": {},
     "output_type": "execute_result"
    }
   ],
   "source": [
    "word = TV_data[\"Genres\"][0]\n",
    "w = word.split(', ')\n",
    "w = w[0]\n",
    "w\n",
    "type(w)"
   ]
  },
  {
   "cell_type": "code",
   "execution_count": 147,
   "id": "10e0e958-b7af-4c6c-a7a6-39191ec1b276",
   "metadata": {},
   "outputs": [
    {
     "name": "stderr",
     "output_type": "stream",
     "text": [
      "C:\\Users\\tiffa\\AppData\\Local\\Temp\\ipykernel_35736\\3860556465.py:5: SettingWithCopyWarning: \n",
      "A value is trying to be set on a copy of a slice from a DataFrame\n",
      "\n",
      "See the caveats in the documentation: https://pandas.pydata.org/pandas-docs/stable/user_guide/indexing.html#returning-a-view-versus-a-copy\n",
      "  TV_data[\"Genres\"][i] = w\n"
     ]
    },
    {
     "ename": "KeyError",
     "evalue": "4",
     "output_type": "error",
     "traceback": [
      "\u001b[1;31m---------------------------------------------------------------------------\u001b[0m",
      "\u001b[1;31mKeyError\u001b[0m                                  Traceback (most recent call last)",
      "\u001b[1;32m~\\anaconda3\\lib\\site-packages\\pandas\\core\\indexes\\base.py\u001b[0m in \u001b[0;36mget_loc\u001b[1;34m(self, key, method, tolerance)\u001b[0m\n\u001b[0;32m   3628\u001b[0m             \u001b[1;32mtry\u001b[0m\u001b[1;33m:\u001b[0m\u001b[1;33m\u001b[0m\u001b[1;33m\u001b[0m\u001b[0m\n\u001b[1;32m-> 3629\u001b[1;33m                 \u001b[1;32mreturn\u001b[0m \u001b[0mself\u001b[0m\u001b[1;33m.\u001b[0m\u001b[0m_engine\u001b[0m\u001b[1;33m.\u001b[0m\u001b[0mget_loc\u001b[0m\u001b[1;33m(\u001b[0m\u001b[0mcasted_key\u001b[0m\u001b[1;33m)\u001b[0m\u001b[1;33m\u001b[0m\u001b[1;33m\u001b[0m\u001b[0m\n\u001b[0m\u001b[0;32m   3630\u001b[0m             \u001b[1;32mexcept\u001b[0m \u001b[0mKeyError\u001b[0m \u001b[1;32mas\u001b[0m \u001b[0merr\u001b[0m\u001b[1;33m:\u001b[0m\u001b[1;33m\u001b[0m\u001b[1;33m\u001b[0m\u001b[0m\n",
      "\u001b[1;32m~\\anaconda3\\lib\\site-packages\\pandas\\_libs\\index.pyx\u001b[0m in \u001b[0;36mpandas._libs.index.IndexEngine.get_loc\u001b[1;34m()\u001b[0m\n",
      "\u001b[1;32m~\\anaconda3\\lib\\site-packages\\pandas\\_libs\\index.pyx\u001b[0m in \u001b[0;36mpandas._libs.index.IndexEngine.get_loc\u001b[1;34m()\u001b[0m\n",
      "\u001b[1;32mpandas\\_libs\\hashtable_class_helper.pxi\u001b[0m in \u001b[0;36mpandas._libs.hashtable.Int64HashTable.get_item\u001b[1;34m()\u001b[0m\n",
      "\u001b[1;32mpandas\\_libs\\hashtable_class_helper.pxi\u001b[0m in \u001b[0;36mpandas._libs.hashtable.Int64HashTable.get_item\u001b[1;34m()\u001b[0m\n",
      "\u001b[1;31mKeyError\u001b[0m: 4",
      "\nThe above exception was the direct cause of the following exception:\n",
      "\u001b[1;31mKeyError\u001b[0m                                  Traceback (most recent call last)",
      "\u001b[1;32m~\\AppData\\Local\\Temp\\ipykernel_35736\\3860556465.py\u001b[0m in \u001b[0;36m<module>\u001b[1;34m\u001b[0m\n\u001b[0;32m      1\u001b[0m \u001b[1;32mfor\u001b[0m \u001b[0mi\u001b[0m \u001b[1;32min\u001b[0m \u001b[0mrange\u001b[0m\u001b[1;33m(\u001b[0m\u001b[1;36m3681\u001b[0m\u001b[1;33m)\u001b[0m\u001b[1;33m:\u001b[0m\u001b[1;33m\u001b[0m\u001b[1;33m\u001b[0m\u001b[0m\n\u001b[1;32m----> 2\u001b[1;33m     \u001b[0mword\u001b[0m \u001b[1;33m=\u001b[0m \u001b[0mTV_data\u001b[0m\u001b[1;33m[\u001b[0m\u001b[1;34m\"Genres\"\u001b[0m\u001b[1;33m]\u001b[0m\u001b[1;33m[\u001b[0m\u001b[0mi\u001b[0m\u001b[1;33m]\u001b[0m\u001b[1;33m\u001b[0m\u001b[1;33m\u001b[0m\u001b[0m\n\u001b[0m\u001b[0;32m      3\u001b[0m     \u001b[0mw\u001b[0m \u001b[1;33m=\u001b[0m \u001b[0mword\u001b[0m\u001b[1;33m.\u001b[0m\u001b[0msplit\u001b[0m\u001b[1;33m(\u001b[0m\u001b[1;34m', '\u001b[0m\u001b[1;33m)\u001b[0m\u001b[1;33m\u001b[0m\u001b[1;33m\u001b[0m\u001b[0m\n\u001b[0;32m      4\u001b[0m     \u001b[0mw\u001b[0m \u001b[1;33m=\u001b[0m \u001b[0mw\u001b[0m\u001b[1;33m[\u001b[0m\u001b[1;36m0\u001b[0m\u001b[1;33m]\u001b[0m\u001b[1;33m\u001b[0m\u001b[1;33m\u001b[0m\u001b[0m\n\u001b[0;32m      5\u001b[0m     \u001b[0mTV_data\u001b[0m\u001b[1;33m[\u001b[0m\u001b[1;34m\"Genres\"\u001b[0m\u001b[1;33m]\u001b[0m\u001b[1;33m[\u001b[0m\u001b[0mi\u001b[0m\u001b[1;33m]\u001b[0m \u001b[1;33m=\u001b[0m \u001b[0mw\u001b[0m\u001b[1;33m\u001b[0m\u001b[1;33m\u001b[0m\u001b[0m\n",
      "\u001b[1;32m~\\anaconda3\\lib\\site-packages\\pandas\\core\\series.py\u001b[0m in \u001b[0;36m__getitem__\u001b[1;34m(self, key)\u001b[0m\n\u001b[0;32m    956\u001b[0m \u001b[1;33m\u001b[0m\u001b[0m\n\u001b[0;32m    957\u001b[0m         \u001b[1;32melif\u001b[0m \u001b[0mkey_is_scalar\u001b[0m\u001b[1;33m:\u001b[0m\u001b[1;33m\u001b[0m\u001b[1;33m\u001b[0m\u001b[0m\n\u001b[1;32m--> 958\u001b[1;33m             \u001b[1;32mreturn\u001b[0m \u001b[0mself\u001b[0m\u001b[1;33m.\u001b[0m\u001b[0m_get_value\u001b[0m\u001b[1;33m(\u001b[0m\u001b[0mkey\u001b[0m\u001b[1;33m)\u001b[0m\u001b[1;33m\u001b[0m\u001b[1;33m\u001b[0m\u001b[0m\n\u001b[0m\u001b[0;32m    959\u001b[0m \u001b[1;33m\u001b[0m\u001b[0m\n\u001b[0;32m    960\u001b[0m         \u001b[1;32mif\u001b[0m \u001b[0mis_hashable\u001b[0m\u001b[1;33m(\u001b[0m\u001b[0mkey\u001b[0m\u001b[1;33m)\u001b[0m\u001b[1;33m:\u001b[0m\u001b[1;33m\u001b[0m\u001b[1;33m\u001b[0m\u001b[0m\n",
      "\u001b[1;32m~\\anaconda3\\lib\\site-packages\\pandas\\core\\series.py\u001b[0m in \u001b[0;36m_get_value\u001b[1;34m(self, label, takeable)\u001b[0m\n\u001b[0;32m   1067\u001b[0m \u001b[1;33m\u001b[0m\u001b[0m\n\u001b[0;32m   1068\u001b[0m         \u001b[1;31m# Similar to Index.get_value, but we do not fall back to positional\u001b[0m\u001b[1;33m\u001b[0m\u001b[1;33m\u001b[0m\u001b[0m\n\u001b[1;32m-> 1069\u001b[1;33m         \u001b[0mloc\u001b[0m \u001b[1;33m=\u001b[0m \u001b[0mself\u001b[0m\u001b[1;33m.\u001b[0m\u001b[0mindex\u001b[0m\u001b[1;33m.\u001b[0m\u001b[0mget_loc\u001b[0m\u001b[1;33m(\u001b[0m\u001b[0mlabel\u001b[0m\u001b[1;33m)\u001b[0m\u001b[1;33m\u001b[0m\u001b[1;33m\u001b[0m\u001b[0m\n\u001b[0m\u001b[0;32m   1070\u001b[0m         \u001b[1;32mreturn\u001b[0m \u001b[0mself\u001b[0m\u001b[1;33m.\u001b[0m\u001b[0mindex\u001b[0m\u001b[1;33m.\u001b[0m\u001b[0m_get_values_for_loc\u001b[0m\u001b[1;33m(\u001b[0m\u001b[0mself\u001b[0m\u001b[1;33m,\u001b[0m \u001b[0mloc\u001b[0m\u001b[1;33m,\u001b[0m \u001b[0mlabel\u001b[0m\u001b[1;33m)\u001b[0m\u001b[1;33m\u001b[0m\u001b[1;33m\u001b[0m\u001b[0m\n\u001b[0;32m   1071\u001b[0m \u001b[1;33m\u001b[0m\u001b[0m\n",
      "\u001b[1;32m~\\anaconda3\\lib\\site-packages\\pandas\\core\\indexes\\base.py\u001b[0m in \u001b[0;36mget_loc\u001b[1;34m(self, key, method, tolerance)\u001b[0m\n\u001b[0;32m   3629\u001b[0m                 \u001b[1;32mreturn\u001b[0m \u001b[0mself\u001b[0m\u001b[1;33m.\u001b[0m\u001b[0m_engine\u001b[0m\u001b[1;33m.\u001b[0m\u001b[0mget_loc\u001b[0m\u001b[1;33m(\u001b[0m\u001b[0mcasted_key\u001b[0m\u001b[1;33m)\u001b[0m\u001b[1;33m\u001b[0m\u001b[1;33m\u001b[0m\u001b[0m\n\u001b[0;32m   3630\u001b[0m             \u001b[1;32mexcept\u001b[0m \u001b[0mKeyError\u001b[0m \u001b[1;32mas\u001b[0m \u001b[0merr\u001b[0m\u001b[1;33m:\u001b[0m\u001b[1;33m\u001b[0m\u001b[1;33m\u001b[0m\u001b[0m\n\u001b[1;32m-> 3631\u001b[1;33m                 \u001b[1;32mraise\u001b[0m \u001b[0mKeyError\u001b[0m\u001b[1;33m(\u001b[0m\u001b[0mkey\u001b[0m\u001b[1;33m)\u001b[0m \u001b[1;32mfrom\u001b[0m \u001b[0merr\u001b[0m\u001b[1;33m\u001b[0m\u001b[1;33m\u001b[0m\u001b[0m\n\u001b[0m\u001b[0;32m   3632\u001b[0m             \u001b[1;32mexcept\u001b[0m \u001b[0mTypeError\u001b[0m\u001b[1;33m:\u001b[0m\u001b[1;33m\u001b[0m\u001b[1;33m\u001b[0m\u001b[0m\n\u001b[0;32m   3633\u001b[0m                 \u001b[1;31m# If we have a listlike key, _check_indexing_error will raise\u001b[0m\u001b[1;33m\u001b[0m\u001b[1;33m\u001b[0m\u001b[0m\n",
      "\u001b[1;31mKeyError\u001b[0m: 4"
     ]
    }
   ],
   "source": [
    "for i in range(3681):\n",
    "    word = TV_data[\"Genres\"][i]\n",
    "    w = word.split(', ')\n",
    "    w = w[0]\n",
    "    TV_data[\"Genres\"][i] = w"
   ]
  },
  {
   "cell_type": "code",
   "execution_count": null,
   "id": "e19a2faf-7d8a-4681-bcf8-b6c46aac0e6d",
   "metadata": {},
   "outputs": [],
   "source": []
  }
 ],
 "metadata": {
  "kernelspec": {
   "display_name": "Python 3 (ipykernel)",
   "language": "python",
   "name": "python3"
  },
  "language_info": {
   "codemirror_mode": {
    "name": "ipython",
    "version": 3
   },
   "file_extension": ".py",
   "mimetype": "text/x-python",
   "name": "python",
   "nbconvert_exporter": "python",
   "pygments_lexer": "ipython3",
   "version": "3.9.13"
  }
 },
 "nbformat": 4,
 "nbformat_minor": 5
}
