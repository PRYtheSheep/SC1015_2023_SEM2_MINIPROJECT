{
 "cells": [
  {
   "cell_type": "code",
   "execution_count": 19,
   "id": "f9c3bbb1",
   "metadata": {},
   "outputs": [],
   "source": [
    "import numpy as np\n",
    "import pandas as pd\n",
    "import matplotlib.pyplot as plt\n",
    "import seaborn as sb\n"
   ]
  },
  {
   "cell_type": "code",
   "execution_count": 20,
   "id": "92f326fb",
   "metadata": {},
   "outputs": [],
   "source": [
    "#raw_data = pd.read_csv(r\"C:\\Users\\Dreamcore\\OneDrive\\Desktop\\MAL Anime Top 10000 Details.csv.zip\")\n",
    "raw_data = pd.read_csv(r\"MAL Anime Top 10000 Details.csv.zip\")\n",
    "new_data = pd.DataFrame(raw_data[[\"Anime Title\",\"Type\",\"Episodes\",\"Aired\",\"Producers\",\"Studios\",\n",
    "                                  \"Source\",\"Genres\",\"Score\",\"Members\",\"Favorites\"]])\n",
    "TV_data = new_data.loc[new_data[\"Type\"]==\"TV\"]\n",
    "Movie_data = new_data.loc[new_data[\"Type\"]==\"Movie\"]"
   ]
  },
  {
   "cell_type": "markdown",
   "id": "536271d8",
   "metadata": {},
   "source": [
    "Anime Title - title of the anime\n",
    "\n",
    "Type - Type of anime(OVA/TV/etc)\n",
    "\n",
    "Episodes - number of episodes\n",
    "\n",
    "Aired - time frame of airing\n",
    "\n",
    "Producers - producers of the anime\n",
    "\n",
    "Studios - studio responsible for anime creation\n",
    "\n",
    "Source - source from which anime was adapted from\n",
    "\n",
    "Genres - genre of anime\n",
    "\n",
    "Score - MAL score for the anime\n",
    "to perform uni-varaiate analysis\n",
    "\n",
    "Members - number of members registered for anime\n",
    "to perform uni-varaiate analysis\n",
    "\n",
    "Favourites - number of members who favourited the anime\n",
    "to perform uni-varaiate analysis"
   ]
  },
  {
   "cell_type": "markdown",
   "id": "be96d1e5",
   "metadata": {},
   "source": [
    "TO DO\n",
    "\n",
    "Create a new column as percentage of favourites out of all members DONE\n",
    "\n",
    "Use studio/source/genre as entry varaibles"
   ]
  },
  {
   "cell_type": "code",
   "execution_count": 21,
   "id": "cd480db4",
   "metadata": {
    "scrolled": false
   },
   "outputs": [
    {
     "data": {
      "text/plain": [
       "<seaborn.axisgrid.FacetGrid at 0x20dbe1f09d0>"
      ]
     },
     "execution_count": 21,
     "metadata": {},
     "output_type": "execute_result"
    },
    {
     "data": {
      "image/png": "[encoded data removed]",
      "text/plain": [
       "<Figure size 360x360 with 1 Axes>"
      ]
     },
     "metadata": {
      "needs_background": "light"
     },
     "output_type": "display_data"
    }
   ],
   "source": [
    "sb.catplot(y = 'Studios', data = TV_data[TV_data.groupby('Studios').Studios.transform('count') > 25], kind='count')"
   ]
  },
  {
   "cell_type": "code",
   "execution_count": 22,
   "id": "b434059e",
   "metadata": {},
   "outputs": [
    {
     "data": {
      "text/plain": [
       "11"
      ]
     },
     "execution_count": 22,
     "metadata": {},
     "output_type": "execute_result"
    }
   ],
   "source": [
    "TV_Studios_array=TV_data[\"Studios\"].unique()\n",
    "np.where(TV_Studios_array == TV_data[\"Studios\"].iloc[27])[0][0]"
   ]
  },
  {
   "cell_type": "code",
   "execution_count": 23,
   "id": "fae550d3",
   "metadata": {},
   "outputs": [
    {
     "data": {
      "text/plain": [
       "'Action, Military, Adventure, Comedy, Drama, Magic, Fantasy, Shounen'"
      ]
     },
     "execution_count": 23,
     "metadata": {},
     "output_type": "execute_result"
    }
   ],
   "source": [
    "TV_data[\"Genres\"].iloc[0]"
   ]
  },
  {
   "cell_type": "markdown",
   "id": "edc66d7c",
   "metadata": {},
   "source": [
    "## 020323 Ezra\n",
    "\n",
    "### - Fav% and Favourites not good dep vars, let's try Score or Members\n",
    "### - Episodes is a column of strings\n",
    "### - Producers and Studios have some NULL\n",
    "### - Convert all categorical string columns to float (0,1,2 etc) else decTree cannot run"
   ]
  },
  {
   "cell_type": "code",
   "execution_count": 51,
   "id": "f9687567",
   "metadata": {},
   "outputs": [],
   "source": [
    "source = TV_data['Source']\n",
    "genres = TV_data['Genres']\n",
    "score = TV_data['Score']\n",
    "members = TV_data['Source']\n",
    "fav = TV_data['Favorites']"
   ]
  },
  {
   "cell_type": "code",
   "execution_count": 52,
   "id": "2b59371b",
   "metadata": {},
   "outputs": [
    {
     "ename": "ValueError",
     "evalue": "cannot insert Fav%, already exists",
     "output_type": "error",
     "traceback": [
      "\u001b[1;31m---------------------------------------------------------------------------\u001b[0m",
      "\u001b[1;31mValueError\u001b[0m                                Traceback (most recent call last)",
      "Input \u001b[1;32mIn [52]\u001b[0m, in \u001b[0;36m<cell line: 1>\u001b[1;34m()\u001b[0m\n\u001b[1;32m----> 1\u001b[0m \u001b[43mTV_data\u001b[49m\u001b[38;5;241;43m.\u001b[39;49m\u001b[43minsert\u001b[49m\u001b[43m(\u001b[49m\u001b[43mloc\u001b[49m\u001b[38;5;241;43m=\u001b[39;49m\u001b[38;5;241;43m11\u001b[39;49m\u001b[43m,\u001b[49m\u001b[43m \u001b[49m\u001b[43mcolumn\u001b[49m\u001b[38;5;241;43m=\u001b[39;49m\u001b[38;5;124;43m'\u001b[39;49m\u001b[38;5;124;43mFav\u001b[39;49m\u001b[38;5;124;43m%\u001b[39;49m\u001b[38;5;124;43m'\u001b[39;49m\u001b[43m,\u001b[49m\u001b[43m \u001b[49m\u001b[43mvalue\u001b[49m\u001b[38;5;241;43m=\u001b[39;49m\u001b[38;5;28;43mround\u001b[39;49m\u001b[43m(\u001b[49m\u001b[43mTV_data\u001b[49m\u001b[43m[\u001b[49m\u001b[38;5;124;43m'\u001b[39;49m\u001b[38;5;124;43mFavorites\u001b[39;49m\u001b[38;5;124;43m'\u001b[39;49m\u001b[43m]\u001b[49m\u001b[38;5;241;43m*\u001b[39;49m\u001b[38;5;241;43m100\u001b[39;49m\u001b[38;5;241;43m/\u001b[39;49m\u001b[43mTV_data\u001b[49m\u001b[43m[\u001b[49m\u001b[38;5;124;43m'\u001b[39;49m\u001b[38;5;124;43mMembers\u001b[39;49m\u001b[38;5;124;43m'\u001b[39;49m\u001b[43m]\u001b[49m\u001b[43m,\u001b[49m\u001b[43m \u001b[49m\u001b[38;5;241;43m3\u001b[39;49m\u001b[43m)\u001b[49m\u001b[43m)\u001b[49m\n",
      "File \u001b[1;32m~\\anaconda3\\lib\\site-packages\\pandas\\core\\frame.py:4440\u001b[0m, in \u001b[0;36mDataFrame.insert\u001b[1;34m(self, loc, column, value, allow_duplicates)\u001b[0m\n\u001b[0;32m   4434\u001b[0m     \u001b[38;5;28;01mraise\u001b[39;00m \u001b[38;5;167;01mValueError\u001b[39;00m(\n\u001b[0;32m   4435\u001b[0m         \u001b[38;5;124m\"\u001b[39m\u001b[38;5;124mCannot specify \u001b[39m\u001b[38;5;124m'\u001b[39m\u001b[38;5;124mallow_duplicates=True\u001b[39m\u001b[38;5;124m'\u001b[39m\u001b[38;5;124m when \u001b[39m\u001b[38;5;124m\"\u001b[39m\n\u001b[0;32m   4436\u001b[0m         \u001b[38;5;124m\"\u001b[39m\u001b[38;5;124m'\u001b[39m\u001b[38;5;124mself.flags.allows_duplicate_labels\u001b[39m\u001b[38;5;124m'\u001b[39m\u001b[38;5;124m is False.\u001b[39m\u001b[38;5;124m\"\u001b[39m\n\u001b[0;32m   4437\u001b[0m     )\n\u001b[0;32m   4438\u001b[0m \u001b[38;5;28;01mif\u001b[39;00m \u001b[38;5;129;01mnot\u001b[39;00m allow_duplicates \u001b[38;5;129;01mand\u001b[39;00m column \u001b[38;5;129;01min\u001b[39;00m \u001b[38;5;28mself\u001b[39m\u001b[38;5;241m.\u001b[39mcolumns:\n\u001b[0;32m   4439\u001b[0m     \u001b[38;5;66;03m# Should this be a different kind of error??\u001b[39;00m\n\u001b[1;32m-> 4440\u001b[0m     \u001b[38;5;28;01mraise\u001b[39;00m \u001b[38;5;167;01mValueError\u001b[39;00m(\u001b[38;5;124mf\u001b[39m\u001b[38;5;124m\"\u001b[39m\u001b[38;5;124mcannot insert \u001b[39m\u001b[38;5;132;01m{\u001b[39;00mcolumn\u001b[38;5;132;01m}\u001b[39;00m\u001b[38;5;124m, already exists\u001b[39m\u001b[38;5;124m\"\u001b[39m)\n\u001b[0;32m   4441\u001b[0m \u001b[38;5;28;01mif\u001b[39;00m \u001b[38;5;129;01mnot\u001b[39;00m \u001b[38;5;28misinstance\u001b[39m(loc, \u001b[38;5;28mint\u001b[39m):\n\u001b[0;32m   4442\u001b[0m     \u001b[38;5;28;01mraise\u001b[39;00m \u001b[38;5;167;01mTypeError\u001b[39;00m(\u001b[38;5;124m\"\u001b[39m\u001b[38;5;124mloc must be int\u001b[39m\u001b[38;5;124m\"\u001b[39m)\n",
      "\u001b[1;31mValueError\u001b[0m: cannot insert Fav%, already exists"
     ]
    }
   ],
   "source": [
    "TV_data.insert(loc=11, column='Fav%', value=round(TV_data['Favorites']*100/TV_data['Members'], 3))"
   ]
  },
  {
   "cell_type": "code",
   "execution_count": 53,
   "id": "22e1a8f9",
   "metadata": {},
   "outputs": [
    {
     "data": {
      "text/html": [
       "<div>\n",
       "<style scoped>\n",
       "    .dataframe tbody tr th:only-of-type {\n",
       "        vertical-align: middle;\n",
       "    }\n",
       "\n",
       "    .dataframe tbody tr th {\n",
       "        vertical-align: top;\n",
       "    }\n",
       "\n",
       "    .dataframe thead th {\n",
       "        text-align: right;\n",
       "    }\n",
       "</style>\n",
       "<table border=\"1\" class=\"dataframe\">\n",
       "  <thead>\n",
       "    <tr style=\"text-align: right;\">\n",
       "      <th></th>\n",
       "      <th>Anime Title</th>\n",
       "      <th>Type</th>\n",
       "      <th>Episodes</th>\n",
       "      <th>Aired</th>\n",
       "      <th>Producers</th>\n",
       "      <th>Studios</th>\n",
       "      <th>Source</th>\n",
       "      <th>Genres</th>\n",
       "      <th>Score</th>\n",
       "      <th>Members</th>\n",
       "      <th>Favorites</th>\n",
       "      <th>Fav%</th>\n",
       "    </tr>\n",
       "  </thead>\n",
       "  <tbody>\n",
       "    <tr>\n",
       "      <th>0</th>\n",
       "      <td>Fullmetal Alchemist: Brotherhood</td>\n",
       "      <td>TV</td>\n",
       "      <td>64</td>\n",
       "      <td>Apr 5, 2009 to Jul 4, 2010</td>\n",
       "      <td>Aniplex, Square Enix, Mainichi Broadcasting Sy...</td>\n",
       "      <td>Bones</td>\n",
       "      <td>Manga</td>\n",
       "      <td>Action, Military, Adventure, Comedy, Drama, Ma...</td>\n",
       "      <td>9.22</td>\n",
       "      <td>2025613</td>\n",
       "      <td>167812</td>\n",
       "      <td>8.285</td>\n",
       "    </tr>\n",
       "    <tr>\n",
       "      <th>1</th>\n",
       "      <td>Steins;Gate</td>\n",
       "      <td>TV</td>\n",
       "      <td>24</td>\n",
       "      <td>Apr 6, 2011 to Sep 14, 2011</td>\n",
       "      <td>Frontier Works, Media Factory, Movic, AT-X, Ka...</td>\n",
       "      <td>White Fox</td>\n",
       "      <td>Visual novel</td>\n",
       "      <td>Thriller, Sci-Fi</td>\n",
       "      <td>9.12</td>\n",
       "      <td>1636151</td>\n",
       "      <td>139909</td>\n",
       "      <td>8.551</td>\n",
       "    </tr>\n",
       "    <tr>\n",
       "      <th>2</th>\n",
       "      <td>Gintama°</td>\n",
       "      <td>TV</td>\n",
       "      <td>51</td>\n",
       "      <td>Apr 8, 2015 to Mar 30, 2016</td>\n",
       "      <td>TV Tokyo, Aniplex, Dentsu</td>\n",
       "      <td>Bandai Namco Pictures</td>\n",
       "      <td>Manga</td>\n",
       "      <td>Action, Comedy, Historical, Parody, Samurai, S...</td>\n",
       "      <td>9.11</td>\n",
       "      <td>363879</td>\n",
       "      <td>10353</td>\n",
       "      <td>2.845</td>\n",
       "    </tr>\n",
       "    <tr>\n",
       "      <th>3</th>\n",
       "      <td>Hunter x Hunter (2011)</td>\n",
       "      <td>TV</td>\n",
       "      <td>148</td>\n",
       "      <td>Oct 2, 2011 to Sep 24, 2014</td>\n",
       "      <td>VAP, Nippon Television Network, Shueisha</td>\n",
       "      <td>Madhouse</td>\n",
       "      <td>Manga</td>\n",
       "      <td>Action, Adventure, Fantasy, Shounen, Super Power</td>\n",
       "      <td>9.11</td>\n",
       "      <td>1459320</td>\n",
       "      <td>130492</td>\n",
       "      <td>8.942</td>\n",
       "    </tr>\n",
       "    <tr>\n",
       "      <th>5</th>\n",
       "      <td>Gintama'</td>\n",
       "      <td>TV</td>\n",
       "      <td>51</td>\n",
       "      <td>Apr 4, 2011 to Mar 26, 2012</td>\n",
       "      <td>TV Tokyo, Aniplex, Dentsu, Trinity Sound, Mira...</td>\n",
       "      <td>Sunrise</td>\n",
       "      <td>Manga</td>\n",
       "      <td>Action, Sci-Fi, Comedy, Historical, Parody, Sa...</td>\n",
       "      <td>9.08</td>\n",
       "      <td>337198</td>\n",
       "      <td>6013</td>\n",
       "      <td>1.783</td>\n",
       "    </tr>\n",
       "  </tbody>\n",
       "</table>\n",
       "</div>"
      ],
      "text/plain": [
       "                        Anime Title Type Episodes  \\\n",
       "0  Fullmetal Alchemist: Brotherhood   TV       64   \n",
       "1                       Steins;Gate   TV       24   \n",
       "2                          Gintama°   TV       51   \n",
       "3            Hunter x Hunter (2011)   TV      148   \n",
       "5                          Gintama'   TV       51   \n",
       "\n",
       "                         Aired  \\\n",
       "0   Apr 5, 2009 to Jul 4, 2010   \n",
       "1  Apr 6, 2011 to Sep 14, 2011   \n",
       "2  Apr 8, 2015 to Mar 30, 2016   \n",
       "3  Oct 2, 2011 to Sep 24, 2014   \n",
       "5  Apr 4, 2011 to Mar 26, 2012   \n",
       "\n",
       "                                           Producers                Studios  \\\n",
       "0  Aniplex, Square Enix, Mainichi Broadcasting Sy...                  Bones   \n",
       "1  Frontier Works, Media Factory, Movic, AT-X, Ka...              White Fox   \n",
       "2                          TV Tokyo, Aniplex, Dentsu  Bandai Namco Pictures   \n",
       "3           VAP, Nippon Television Network, Shueisha               Madhouse   \n",
       "5  TV Tokyo, Aniplex, Dentsu, Trinity Sound, Mira...                Sunrise   \n",
       "\n",
       "         Source                                             Genres  Score  \\\n",
       "0         Manga  Action, Military, Adventure, Comedy, Drama, Ma...   9.22   \n",
       "1  Visual novel                                   Thriller, Sci-Fi   9.12   \n",
       "2         Manga  Action, Comedy, Historical, Parody, Samurai, S...   9.11   \n",
       "3         Manga   Action, Adventure, Fantasy, Shounen, Super Power   9.11   \n",
       "5         Manga  Action, Sci-Fi, Comedy, Historical, Parody, Sa...   9.08   \n",
       "\n",
       "   Members  Favorites   Fav%  \n",
       "0  2025613     167812  8.285  \n",
       "1  1636151     139909  8.551  \n",
       "2   363879      10353  2.845  \n",
       "3  1459320     130492  8.942  \n",
       "5   337198       6013  1.783  "
      ]
     },
     "execution_count": 53,
     "metadata": {},
     "output_type": "execute_result"
    }
   ],
   "source": [
    "TV_data.head()"
   ]
  },
  {
   "cell_type": "code",
   "execution_count": 54,
   "id": "64ab177e",
   "metadata": {},
   "outputs": [
    {
     "data": {
      "text/plain": [
       "count    3681.000000\n",
       "mean        6.949992\n",
       "std         0.728457\n",
       "min         5.250000\n",
       "25%         6.430000\n",
       "50%         6.930000\n",
       "75%         7.440000\n",
       "max         9.220000\n",
       "Name: Score, dtype: float64"
      ]
     },
     "execution_count": 54,
     "metadata": {},
     "output_type": "execute_result"
    }
   ],
   "source": [
    "score.describe()"
   ]
  },
  {
   "cell_type": "code",
   "execution_count": 55,
   "id": "e83d7477",
   "metadata": {},
   "outputs": [
    {
     "data": {
      "text/plain": [
       "count    3681.000000\n",
       "mean        0.612681\n",
       "std         0.786599\n",
       "min         0.000000\n",
       "25%         0.185000\n",
       "50%         0.370000\n",
       "75%         0.701000\n",
       "max         9.122000\n",
       "Name: Fav%, dtype: float64"
      ]
     },
     "execution_count": 55,
     "metadata": {},
     "output_type": "execute_result"
    }
   ],
   "source": [
    "TV_data['Fav%'].describe()"
   ]
  },
  {
   "cell_type": "code",
   "execution_count": 45,
   "id": "f861d4b3",
   "metadata": {},
   "outputs": [
    {
     "data": {
      "text/plain": [
       "str"
      ]
     },
     "execution_count": 45,
     "metadata": {},
     "output_type": "execute_result"
    }
   ],
   "source": [
    "type(TV_data['Episodes'][0])"
   ]
  },
  {
   "cell_type": "code",
   "execution_count": 56,
   "id": "eff128ef",
   "metadata": {},
   "outputs": [
    {
     "data": {
      "text/plain": [
       "count      3681.000000\n",
       "mean       1730.505026\n",
       "std        7687.333036\n",
       "min           0.000000\n",
       "25%          12.000000\n",
       "50%          86.000000\n",
       "75%         589.000000\n",
       "max      167812.000000\n",
       "Name: Favorites, dtype: float64"
      ]
     },
     "execution_count": 56,
     "metadata": {},
     "output_type": "execute_result"
    }
   ],
   "source": [
    "TV_data['Favorites'].describe()"
   ]
  },
  {
   "cell_type": "code",
   "execution_count": 48,
   "id": "f2ce6e6c",
   "metadata": {},
   "outputs": [
    {
     "data": {
      "text/plain": [
       "count    3.681000e+03\n",
       "mean     1.119105e+05\n",
       "std      2.175029e+05\n",
       "min      2.920000e+02\n",
       "25%      4.691000e+03\n",
       "50%      2.736200e+04\n",
       "75%      1.178950e+05\n",
       "max      2.331023e+06\n",
       "Name: Members, dtype: float64"
      ]
     },
     "execution_count": 48,
     "metadata": {},
     "output_type": "execute_result"
    }
   ],
   "source": [
    "TV_data['Members'].describe()"
   ]
  },
  {
   "cell_type": "code",
   "execution_count": 58,
   "id": "432596f7",
   "metadata": {},
   "outputs": [],
   "source": [
    "from sklearn.tree import DecisionTreeClassifier\n",
    "from sklearn.model_selection import train_test_split\n",
    "from sklearn.metrics import confusion_matrix\n",
    "from sklearn.tree import plot_tree \n",
    "\n",
    "def decTree(pred, res, depth):\n",
    "    X_train, X_test, Y_train, Y_test = train_test_split(pred, res, test_size = 0.2)    \n",
    "    dectree = DecisionTreeClassifier(max_depth = depth)\n",
    "    dectree.fit(X_train, Y_train)\n",
    "    Y_train_pred = dectree.predict(X_train)\n",
    "    Y_test_pred = dectree.predict(X_test)\n",
    "    c = ''.join(list(pred.columns))\n",
    "    d = ''.join(list(res.columns))\n",
    "    cm = confusion_matrix(Y_train, Y_train_pred)\n",
    "    TP = cm[1][1]/(cm[1][1] + cm[1][0])\n",
    "    FP = cm[0][1]/(cm[0][1] + cm[0][0])\n",
    "    cm1 = confusion_matrix(Y_test, Y_test_pred)\n",
    "    TP1 = cm1[1][1]/(cm1[1][1] + cm1[1][0])\n",
    "    FP1 = cm1[0][1]/(cm1[0][1] + cm1[0][0])\n",
    "    print(\"Goodness of Fit of Model \\tTrain Dataset\")\n",
    "    print(\"Classification Accuracy \\t:\", dectree.score(X_train, Y_train))\n",
    "    print(\"True Positive Rate \\t:\", TP)\n",
    "    print(\"False Positive Rate\\t:\", FP)\n",
    "    print()\n",
    "    print(\"Goodness of Fit of Model \\tTest Dataset\")\n",
    "    print(\"Classification Accuracy \\t:\", dectree.score(X_test, Y_test))\n",
    "    print(\"True Positive Rate \\t:\", TP1)\n",
    "    print(\"False Positive Rate\\t:\", FP1)\n",
    "    print()\n",
    "    f, axes = plt.subplots(1, 2, figsize=(12, 4))\n",
    "    sb.heatmap(confusion_matrix(Y_train, Y_train_pred),\n",
    "               annot = True, fmt=\".0f\", annot_kws={\"size\": 18}, ax = axes[0])\n",
    "    sb.heatmap(confusion_matrix(Y_test, Y_test_pred), \n",
    "               annot = True, fmt=\".0f\", annot_kws={\"size\": 18}, ax = axes[1])\n",
    "    f = plt.figure(figsize=(12,12))\n",
    "    plot_tree(dectree, filled=True, rounded=True, \n",
    "              feature_names=[c], \n",
    "              class_names=[\"Ordinary\", d])"
   ]
  },
  {
   "cell_type": "code",
   "execution_count": 61,
   "id": "d1782666",
   "metadata": {},
   "outputs": [
    {
     "ename": "ValueError",
     "evalue": "could not convert string to float: 'Unknown'",
     "output_type": "error",
     "traceback": [
      "\u001b[1;31m---------------------------------------------------------------------------\u001b[0m",
      "\u001b[1;31mValueError\u001b[0m                                Traceback (most recent call last)",
      "Input \u001b[1;32mIn [61]\u001b[0m, in \u001b[0;36m<cell line: 1>\u001b[1;34m()\u001b[0m\n\u001b[1;32m----> 1\u001b[0m \u001b[43mdecTree\u001b[49m\u001b[43m(\u001b[49m\u001b[43mmembers\u001b[49m\u001b[43m,\u001b[49m\u001b[43m \u001b[49m\u001b[43msource\u001b[49m\u001b[43m,\u001b[49m\u001b[38;5;241;43m2\u001b[39;49m\u001b[43m)\u001b[49m\n",
      "Input \u001b[1;32mIn [58]\u001b[0m, in \u001b[0;36mdecTree\u001b[1;34m(pred, res, depth)\u001b[0m\n\u001b[0;32m      7\u001b[0m X_train, X_test, Y_train, Y_test \u001b[38;5;241m=\u001b[39m train_test_split(pred, res, test_size \u001b[38;5;241m=\u001b[39m \u001b[38;5;241m0.2\u001b[39m)    \n\u001b[0;32m      8\u001b[0m dectree \u001b[38;5;241m=\u001b[39m DecisionTreeClassifier(max_depth \u001b[38;5;241m=\u001b[39m depth)\n\u001b[1;32m----> 9\u001b[0m \u001b[43mdectree\u001b[49m\u001b[38;5;241;43m.\u001b[39;49m\u001b[43mfit\u001b[49m\u001b[43m(\u001b[49m\u001b[43mX_train\u001b[49m\u001b[43m,\u001b[49m\u001b[43m \u001b[49m\u001b[43mY_train\u001b[49m\u001b[43m)\u001b[49m\n\u001b[0;32m     10\u001b[0m Y_train_pred \u001b[38;5;241m=\u001b[39m dectree\u001b[38;5;241m.\u001b[39mpredict(X_train)\n\u001b[0;32m     11\u001b[0m Y_test_pred \u001b[38;5;241m=\u001b[39m dectree\u001b[38;5;241m.\u001b[39mpredict(X_test)\n",
      "File \u001b[1;32m~\\anaconda3\\lib\\site-packages\\sklearn\\tree\\_classes.py:937\u001b[0m, in \u001b[0;36mDecisionTreeClassifier.fit\u001b[1;34m(self, X, y, sample_weight, check_input, X_idx_sorted)\u001b[0m\n\u001b[0;32m    899\u001b[0m \u001b[38;5;28;01mdef\u001b[39;00m \u001b[38;5;21mfit\u001b[39m(\n\u001b[0;32m    900\u001b[0m     \u001b[38;5;28mself\u001b[39m, X, y, sample_weight\u001b[38;5;241m=\u001b[39m\u001b[38;5;28;01mNone\u001b[39;00m, check_input\u001b[38;5;241m=\u001b[39m\u001b[38;5;28;01mTrue\u001b[39;00m, X_idx_sorted\u001b[38;5;241m=\u001b[39m\u001b[38;5;124m\"\u001b[39m\u001b[38;5;124mdeprecated\u001b[39m\u001b[38;5;124m\"\u001b[39m\n\u001b[0;32m    901\u001b[0m ):\n\u001b[0;32m    902\u001b[0m     \u001b[38;5;124;03m\"\"\"Build a decision tree classifier from the training set (X, y).\u001b[39;00m\n\u001b[0;32m    903\u001b[0m \n\u001b[0;32m    904\u001b[0m \u001b[38;5;124;03m    Parameters\u001b[39;00m\n\u001b[1;32m   (...)\u001b[0m\n\u001b[0;32m    934\u001b[0m \u001b[38;5;124;03m        Fitted estimator.\u001b[39;00m\n\u001b[0;32m    935\u001b[0m \u001b[38;5;124;03m    \"\"\"\u001b[39;00m\n\u001b[1;32m--> 937\u001b[0m     \u001b[38;5;28;43msuper\u001b[39;49m\u001b[43m(\u001b[49m\u001b[43m)\u001b[49m\u001b[38;5;241;43m.\u001b[39;49m\u001b[43mfit\u001b[49m\u001b[43m(\u001b[49m\n\u001b[0;32m    938\u001b[0m \u001b[43m        \u001b[49m\u001b[43mX\u001b[49m\u001b[43m,\u001b[49m\n\u001b[0;32m    939\u001b[0m \u001b[43m        \u001b[49m\u001b[43my\u001b[49m\u001b[43m,\u001b[49m\n\u001b[0;32m    940\u001b[0m \u001b[43m        \u001b[49m\u001b[43msample_weight\u001b[49m\u001b[38;5;241;43m=\u001b[39;49m\u001b[43msample_weight\u001b[49m\u001b[43m,\u001b[49m\n\u001b[0;32m    941\u001b[0m \u001b[43m        \u001b[49m\u001b[43mcheck_input\u001b[49m\u001b[38;5;241;43m=\u001b[39;49m\u001b[43mcheck_input\u001b[49m\u001b[43m,\u001b[49m\n\u001b[0;32m    942\u001b[0m \u001b[43m        \u001b[49m\u001b[43mX_idx_sorted\u001b[49m\u001b[38;5;241;43m=\u001b[39;49m\u001b[43mX_idx_sorted\u001b[49m\u001b[43m,\u001b[49m\n\u001b[0;32m    943\u001b[0m \u001b[43m    \u001b[49m\u001b[43m)\u001b[49m\n\u001b[0;32m    944\u001b[0m     \u001b[38;5;28;01mreturn\u001b[39;00m \u001b[38;5;28mself\u001b[39m\n",
      "File \u001b[1;32m~\\anaconda3\\lib\\site-packages\\sklearn\\tree\\_classes.py:165\u001b[0m, in \u001b[0;36mBaseDecisionTree.fit\u001b[1;34m(self, X, y, sample_weight, check_input, X_idx_sorted)\u001b[0m\n\u001b[0;32m    163\u001b[0m check_X_params \u001b[38;5;241m=\u001b[39m \u001b[38;5;28mdict\u001b[39m(dtype\u001b[38;5;241m=\u001b[39mDTYPE, accept_sparse\u001b[38;5;241m=\u001b[39m\u001b[38;5;124m\"\u001b[39m\u001b[38;5;124mcsc\u001b[39m\u001b[38;5;124m\"\u001b[39m)\n\u001b[0;32m    164\u001b[0m check_y_params \u001b[38;5;241m=\u001b[39m \u001b[38;5;28mdict\u001b[39m(ensure_2d\u001b[38;5;241m=\u001b[39m\u001b[38;5;28;01mFalse\u001b[39;00m, dtype\u001b[38;5;241m=\u001b[39m\u001b[38;5;28;01mNone\u001b[39;00m)\n\u001b[1;32m--> 165\u001b[0m X, y \u001b[38;5;241m=\u001b[39m \u001b[38;5;28;43mself\u001b[39;49m\u001b[38;5;241;43m.\u001b[39;49m\u001b[43m_validate_data\u001b[49m\u001b[43m(\u001b[49m\n\u001b[0;32m    166\u001b[0m \u001b[43m    \u001b[49m\u001b[43mX\u001b[49m\u001b[43m,\u001b[49m\u001b[43m \u001b[49m\u001b[43my\u001b[49m\u001b[43m,\u001b[49m\u001b[43m \u001b[49m\u001b[43mvalidate_separately\u001b[49m\u001b[38;5;241;43m=\u001b[39;49m\u001b[43m(\u001b[49m\u001b[43mcheck_X_params\u001b[49m\u001b[43m,\u001b[49m\u001b[43m \u001b[49m\u001b[43mcheck_y_params\u001b[49m\u001b[43m)\u001b[49m\n\u001b[0;32m    167\u001b[0m \u001b[43m\u001b[49m\u001b[43m)\u001b[49m\n\u001b[0;32m    168\u001b[0m \u001b[38;5;28;01mif\u001b[39;00m issparse(X):\n\u001b[0;32m    169\u001b[0m     X\u001b[38;5;241m.\u001b[39msort_indices()\n",
      "File \u001b[1;32m~\\anaconda3\\lib\\site-packages\\sklearn\\base.py:578\u001b[0m, in \u001b[0;36mBaseEstimator._validate_data\u001b[1;34m(self, X, y, reset, validate_separately, **check_params)\u001b[0m\n\u001b[0;32m    572\u001b[0m \u001b[38;5;28;01mif\u001b[39;00m validate_separately:\n\u001b[0;32m    573\u001b[0m     \u001b[38;5;66;03m# We need this because some estimators validate X and y\u001b[39;00m\n\u001b[0;32m    574\u001b[0m     \u001b[38;5;66;03m# separately, and in general, separately calling check_array()\u001b[39;00m\n\u001b[0;32m    575\u001b[0m     \u001b[38;5;66;03m# on X and y isn't equivalent to just calling check_X_y()\u001b[39;00m\n\u001b[0;32m    576\u001b[0m     \u001b[38;5;66;03m# :(\u001b[39;00m\n\u001b[0;32m    577\u001b[0m     check_X_params, check_y_params \u001b[38;5;241m=\u001b[39m validate_separately\n\u001b[1;32m--> 578\u001b[0m     X \u001b[38;5;241m=\u001b[39m check_array(X, \u001b[38;5;241m*\u001b[39m\u001b[38;5;241m*\u001b[39mcheck_X_params)\n\u001b[0;32m    579\u001b[0m     y \u001b[38;5;241m=\u001b[39m check_array(y, \u001b[38;5;241m*\u001b[39m\u001b[38;5;241m*\u001b[39mcheck_y_params)\n\u001b[0;32m    580\u001b[0m \u001b[38;5;28;01melse\u001b[39;00m:\n",
      "File \u001b[1;32m~\\anaconda3\\lib\\site-packages\\sklearn\\utils\\validation.py:746\u001b[0m, in \u001b[0;36mcheck_array\u001b[1;34m(array, accept_sparse, accept_large_sparse, dtype, order, copy, force_all_finite, ensure_2d, allow_nd, ensure_min_samples, ensure_min_features, estimator)\u001b[0m\n\u001b[0;32m    744\u001b[0m         array \u001b[38;5;241m=\u001b[39m array\u001b[38;5;241m.\u001b[39mastype(dtype, casting\u001b[38;5;241m=\u001b[39m\u001b[38;5;124m\"\u001b[39m\u001b[38;5;124munsafe\u001b[39m\u001b[38;5;124m\"\u001b[39m, copy\u001b[38;5;241m=\u001b[39m\u001b[38;5;28;01mFalse\u001b[39;00m)\n\u001b[0;32m    745\u001b[0m     \u001b[38;5;28;01melse\u001b[39;00m:\n\u001b[1;32m--> 746\u001b[0m         array \u001b[38;5;241m=\u001b[39m \u001b[43mnp\u001b[49m\u001b[38;5;241;43m.\u001b[39;49m\u001b[43masarray\u001b[49m\u001b[43m(\u001b[49m\u001b[43marray\u001b[49m\u001b[43m,\u001b[49m\u001b[43m \u001b[49m\u001b[43morder\u001b[49m\u001b[38;5;241;43m=\u001b[39;49m\u001b[43morder\u001b[49m\u001b[43m,\u001b[49m\u001b[43m \u001b[49m\u001b[43mdtype\u001b[49m\u001b[38;5;241;43m=\u001b[39;49m\u001b[43mdtype\u001b[49m\u001b[43m)\u001b[49m\n\u001b[0;32m    747\u001b[0m \u001b[38;5;28;01mexcept\u001b[39;00m ComplexWarning \u001b[38;5;28;01mas\u001b[39;00m complex_warning:\n\u001b[0;32m    748\u001b[0m     \u001b[38;5;28;01mraise\u001b[39;00m \u001b[38;5;167;01mValueError\u001b[39;00m(\n\u001b[0;32m    749\u001b[0m         \u001b[38;5;124m\"\u001b[39m\u001b[38;5;124mComplex data not supported\u001b[39m\u001b[38;5;130;01m\\n\u001b[39;00m\u001b[38;5;132;01m{}\u001b[39;00m\u001b[38;5;130;01m\\n\u001b[39;00m\u001b[38;5;124m\"\u001b[39m\u001b[38;5;241m.\u001b[39mformat(array)\n\u001b[0;32m    750\u001b[0m     ) \u001b[38;5;28;01mfrom\u001b[39;00m \u001b[38;5;21;01mcomplex_warning\u001b[39;00m\n",
      "File \u001b[1;32m~\\anaconda3\\lib\\site-packages\\pandas\\core\\series.py:872\u001b[0m, in \u001b[0;36mSeries.__array__\u001b[1;34m(self, dtype)\u001b[0m\n\u001b[0;32m    825\u001b[0m \u001b[38;5;28;01mdef\u001b[39;00m \u001b[38;5;21m__array__\u001b[39m(\u001b[38;5;28mself\u001b[39m, dtype: npt\u001b[38;5;241m.\u001b[39mDTypeLike \u001b[38;5;241m|\u001b[39m \u001b[38;5;28;01mNone\u001b[39;00m \u001b[38;5;241m=\u001b[39m \u001b[38;5;28;01mNone\u001b[39;00m) \u001b[38;5;241m-\u001b[39m\u001b[38;5;241m>\u001b[39m np\u001b[38;5;241m.\u001b[39mndarray:\n\u001b[0;32m    826\u001b[0m     \u001b[38;5;124;03m\"\"\"\u001b[39;00m\n\u001b[0;32m    827\u001b[0m \u001b[38;5;124;03m    Return the values as a NumPy array.\u001b[39;00m\n\u001b[0;32m    828\u001b[0m \n\u001b[1;32m   (...)\u001b[0m\n\u001b[0;32m    870\u001b[0m \u001b[38;5;124;03m          dtype='datetime64[ns]')\u001b[39;00m\n\u001b[0;32m    871\u001b[0m \u001b[38;5;124;03m    \"\"\"\u001b[39;00m\n\u001b[1;32m--> 872\u001b[0m     \u001b[38;5;28;01mreturn\u001b[39;00m \u001b[43mnp\u001b[49m\u001b[38;5;241;43m.\u001b[39;49m\u001b[43masarray\u001b[49m\u001b[43m(\u001b[49m\u001b[38;5;28;43mself\u001b[39;49m\u001b[38;5;241;43m.\u001b[39;49m\u001b[43m_values\u001b[49m\u001b[43m,\u001b[49m\u001b[43m \u001b[49m\u001b[43mdtype\u001b[49m\u001b[43m)\u001b[49m\n",
      "\u001b[1;31mValueError\u001b[0m: could not convert string to float: 'Unknown'"
     ]
    }
   ],
   "source": [
    "decTree(members, source,2)"
   ]
  },
  {
   "cell_type": "code",
   "execution_count": 62,
   "id": "d83076ad",
   "metadata": {},
   "outputs": [
    {
     "name": "stdout",
     "output_type": "stream",
     "text": [
      "<class 'pandas.core.frame.DataFrame'>\n",
      "Int64Index: 3681 entries, 0 to 9999\n",
      "Data columns (total 12 columns):\n",
      " #   Column       Non-Null Count  Dtype  \n",
      "---  ------       --------------  -----  \n",
      " 0   Anime Title  3681 non-null   object \n",
      " 1   Type         3681 non-null   object \n",
      " 2   Episodes     3681 non-null   object \n",
      " 3   Aired        3681 non-null   object \n",
      " 4   Producers    3049 non-null   object \n",
      " 5   Studios      3476 non-null   object \n",
      " 6   Source       3681 non-null   object \n",
      " 7   Genres       3681 non-null   object \n",
      " 8   Score        3681 non-null   float64\n",
      " 9   Members      3681 non-null   int64  \n",
      " 10  Favorites    3681 non-null   int64  \n",
      " 11  Fav%         3681 non-null   float64\n",
      "dtypes: float64(2), int64(2), object(8)\n",
      "memory usage: 502.9+ KB\n"
     ]
    }
   ],
   "source": [
    "TV_data.info()"
   ]
  },
  {
   "cell_type": "code",
   "execution_count": null,
   "id": "665c4085",
   "metadata": {},
   "outputs": [],
   "source": []
  }
 ],
 "metadata": {
  "kernelspec": {
   "display_name": "Python 3 (ipykernel)",
   "language": "python",
   "name": "python3"
  },
  "language_info": {
   "codemirror_mode": {
    "name": "ipython",
    "version": 3
   },
   "file_extension": ".py",
   "mimetype": "text/x-python",
   "name": "python",
   "nbconvert_exporter": "python",
   "pygments_lexer": "ipython3",
   "version": "3.9.12"
  }
 },
 "nbformat": 4,
 "nbformat_minor": 5
}
