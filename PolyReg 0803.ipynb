{
 "cells": [
  {
   "cell_type": "code",
   "execution_count": null,
   "id": "185045d0",
   "metadata": {},
   "outputs": [],
   "source": [
    "TV_data_1k = TV_data.iloc[:1000].copy()\n",
    "from sklearn.linear_model import LinearRegression\n",
    "from sklearn.preprocessing import PolynomialFeatures\n",
    "\n",
    "X1 = TV_data_1k[\"Genre_reference_1\"].to_numpy().reshape(-1,1)\n",
    "X2 = TV_data_1k[\"Genre_reference_2\"].to_numpy().reshape(-1,1)\n",
    "X3 = TV_data_1k[\"Season\"].to_numpy().reshape(-1,1) \n",
    "X4 = TV_data_1k[\"Source_reference\"].to_numpy().reshape(-1,1) \n",
    "X5 = TV_data_1k['Fav%'].to_numpy().reshape(-1,1) \n",
    "X6 = TV_data_1k['Episodes'].to_numpy().reshape(-1,1) #0.39 without, aka useless\n",
    "X = np.concatenate((X1, X2, X3, X4, X5), axis=1) \n",
    "Y = TV_data_1k[\"Score\"]\n",
    "\n",
    "max_rsq = 0\n",
    "best_deg = 0\n",
    "for i in range(2,10):\n",
    "    poly = PolynomialFeatures(degree=i)\n",
    "    X_train, X_test, Y_train, Y_test = train_test_split(X, Y, test_size = 0.2)\n",
    "    X_poly = poly.fit_transform(X_train)\n",
    "    X_poly_test = poly.fit_transform(X_test)\n",
    "    model = LinearRegression()\n",
    "    model.fit(X_poly, Y_train)\n",
    "    r_sq = model.score(X_poly, Y_train)\n",
    "    r_sq2 = model.score(X_poly_test, Y_test)\n",
    "    if r_sq2 <0:\n",
    "        break\n",
    "    if r_sq2 > max_rsq:\n",
    "        max_rsq = r_sq2\n",
    "        best_deg = i\n",
    "    print('Train R^2 score:', r_sq, i)\n",
    "    print('Test R^2 score:', r_sq2)\n",
    "\n",
    "print('Best R^2 score:', max_rsq, best_deg)"
   ]
  }
 ],
 "metadata": {
  "kernelspec": {
   "display_name": "Python 3 (ipykernel)",
   "language": "python",
   "name": "python3"
  },
  "language_info": {
   "codemirror_mode": {
    "name": "ipython",
    "version": 3
   },
   "file_extension": ".py",
   "mimetype": "text/x-python",
   "name": "python",
   "nbconvert_exporter": "python",
   "pygments_lexer": "ipython3",
   "version": "3.9.12"
  }
 },
 "nbformat": 4,
 "nbformat_minor": 5
}
