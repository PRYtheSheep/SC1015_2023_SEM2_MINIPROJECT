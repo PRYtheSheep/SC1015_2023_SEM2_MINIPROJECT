{
 "cells": [
  {
   "cell_type": "code",
   "execution_count": 1,
   "metadata": {},
   "outputs": [],
   "source": [
    "import numpy as np\n",
    "import pandas as pd\n",
    "import matplotlib.pyplot as plt\n",
    "import seaborn as sb"
   ]
  },
  {
   "cell_type": "code",
   "execution_count": 2,
   "metadata": {},
   "outputs": [],
   "source": [
    "raw_data = pd.read_csv(r\"C:\\Users\\user\\Desktop\\MAL Anime Top 10000 Details.csv.zip\")\n",
    "new_data = pd.DataFrame(raw_data[[\"Anime Title\",\"Type\",\"Episodes\",\"Aired\",\"Producers\",\"Studios\",\n",
    "                                  \"Source\",\"Genres\",\"Score\",\"Members\",\"Favorites\"]])\n",
    "TV_data = new_data.loc[new_data[\"Type\"]==\"TV\"]\n",
    "Movie_data = new_data.loc[new_data[\"Type\"]==\"Movie\"]"
   ]
  },
  {
   "cell_type": "markdown",
   "metadata": {},
   "source": [
    "Anime Title - title of the anime\n",
    "\n",
    "Type - Type of anime(OVA/TV/etc)\n",
    "\n",
    "Episodes - number of episodes\n",
    "\n",
    "Aired - time frame of airing\n",
    "\n",
    "Producers - producers of the anime\n",
    "\n",
    "Studios - studio responsible for anime creation\n",
    "\n",
    "Source - source from which anime was adapted from\n",
    "\n",
    "Genres - genre of anime\n",
    "\n",
    "Score - MAL score for the anime to perform uni-varaiate analysis\n",
    "\n",
    "Members - number of members registered for anime to perform uni-varaiate analysis\n",
    "\n",
    "Favourites - number of members who favourited the anime to perform uni-varaiate analysis\n",
    "\n",
    "TO DO\n",
    "\n",
    "Create a new column as percentage of favourites out of all members DONE\n",
    "\n",
    "Use studio/source/genre as entry varaibles"
   ]
  },
  {
   "cell_type": "code",
   "execution_count": 3,
   "metadata": {},
   "outputs": [
    {
     "data": {
      "text/plain": [
       "<seaborn.axisgrid.FacetGrid at 0x1e0d1cb4ac0>"
      ]
     },
     "execution_count": 3,
     "metadata": {},
     "output_type": "execute_result"
    },
    {
     "data": {
      "image/png": "[encoded data removed]",
      "text/plain": [
       "<Figure size 360x360 with 1 Axes>"
      ]
     },
     "metadata": {
      "needs_background": "light"
     },
     "output_type": "display_data"
    }
   ],
   "source": [
    "sb.catplot(y = 'Studios', data = TV_data[TV_data.groupby('Studios').Studios.transform('count') > 25], kind='count')"
   ]
  },
  {
   "cell_type": "code",
   "execution_count": 4,
   "metadata": {},
   "outputs": [
    {
     "data": {
      "text/plain": [
       "11"
      ]
     },
     "execution_count": 4,
     "metadata": {},
     "output_type": "execute_result"
    }
   ],
   "source": [
    "TV_Studios_array=TV_data[\"Studios\"].unique()\n",
    "np.where(TV_Studios_array == TV_data[\"Studios\"].iloc[27])[0][0]"
   ]
  },
  {
   "cell_type": "code",
   "execution_count": 5,
   "metadata": {},
   "outputs": [
    {
     "data": {
      "text/plain": [
       "'Action, Military, Adventure, Comedy, Drama, Magic, Fantasy, Shounen'"
      ]
     },
     "execution_count": 5,
     "metadata": {},
     "output_type": "execute_result"
    }
   ],
   "source": [
    "TV_data[\"Genres\"].iloc[0]"
   ]
  },
  {
   "cell_type": "markdown",
   "metadata": {},
   "source": [
    "# 07/03 \n",
    "## Convert source to int and compress them together\n",
    "## Extracted genre top 2\n",
    "## Converted genre from str to int, added genre_reference_1 and genre_reference_2\n",
    "\n",
    "### To-do\n",
    "### Data cleaning for seasons (use Aired) and studio (some NULL)"
   ]
  },
  {
   "cell_type": "code",
   "execution_count": 16,
   "metadata": {},
   "outputs": [],
   "source": [
    "source = TV_data['Source']\n",
    "genres = TV_data['Genres']\n",
    "score = TV_data['Score']\n",
    "members = pd.DataFrame(TV_data['Members'])\n",
    "fav = TV_data['Favorites']"
   ]
  },
  {
   "cell_type": "code",
   "execution_count": 7,
   "metadata": {},
   "outputs": [],
   "source": [
    "TV_data.insert(loc=11, column='Fav%', value=round(TV_data['Favorites']*100/TV_data['Members'], 3))"
   ]
  },
  {
   "cell_type": "code",
   "execution_count": 8,
   "metadata": {},
   "outputs": [
    {
     "data": {
      "text/plain": [
       "array(['Manga', 'Visual novel', 'Light novel', 'Original', 'Web manga',\n",
       "       'Novel', '4-koma manga', 'Card game', 'Book', 'Game', 'Other',\n",
       "       'Unknown', 'Music', 'Picture book', 'Digital manga', 'Radio'],\n",
       "      dtype=object)"
      ]
     },
     "execution_count": 8,
     "metadata": {},
     "output_type": "execute_result"
    }
   ],
   "source": [
    "source.unique()"
   ]
  },
  {
   "cell_type": "markdown",
   "metadata": {},
   "source": [
    "Convert source to an int, total of 16 sources. Compress some sources together\n",
    "\n",
    "0 - All manga + Picture book\n",
    "\n",
    "1 - Novel, Light Novel, Book\n",
    "\n",
    "2 - All game + Visual novel\n",
    "\n",
    "3 - Other + Unknown\n",
    "\n",
    "4 - Music + Radio\n",
    "\n",
    "5 - Original"
   ]
  },
  {
   "cell_type": "code",
   "execution_count": 9,
   "metadata": {
    "scrolled": true
   },
   "outputs": [],
   "source": [
    "source_list = source.tolist() #list of sources based on index in Tv_data\n",
    "source_list_unique = [\"Manga\", \"Novel\", \"Game\", \"Other\", \"Audio\", \"Original\"] #compresed source_reference list"
   ]
  },
  {
   "cell_type": "code",
   "execution_count": 10,
   "metadata": {
    "scrolled": true
   },
   "outputs": [
    {
     "name": "stderr",
     "output_type": "stream",
     "text": [
      "<ipython-input-10-1c5062921d02>:15: SettingWithCopyWarning: \n",
      "A value is trying to be set on a copy of a slice from a DataFrame.\n",
      "Try using .loc[row_indexer,col_indexer] = value instead\n",
      "\n",
      "See the caveats in the documentation: https://pandas.pydata.org/pandas-docs/stable/user_guide/indexing.html#returning-a-view-versus-a-copy\n",
      "  TV_data[\"Source_reference\"] = a\n"
     ]
    }
   ],
   "source": [
    "a = [0] * len(TV_data)\n",
    "for i in range(len(source_list)):\n",
    "    if source_list[i] in [\"Manga\", \"Web manga\", \"4-koma manga\", \"Digital manga\", \"Picture book\"]:\n",
    "        a[i] = source_list_unique.index(\"Manga\")\n",
    "    elif source_list[i] in [\"Visual novel\", \"Light novel\", \"Book\"]:\n",
    "        a[i] = source_list_unique.index(\"Novel\")\n",
    "    elif source_list[i] in [\"Card game\", \"Game\", \"Visual novel\"]:\n",
    "        a[i] = source_list_unique.index(\"Game\")\n",
    "    elif source_list[i] in [\"Other\", \"Unknown\"]:\n",
    "        a[i] = source_list_unique.index(\"Other\")\n",
    "    elif source_list[i] in [\"Radio\", \"Music\"]:\n",
    "        a[i] = source_list_unique.index(\"Audio\")\n",
    "    elif source_list[i] == \"Original\":\n",
    "        a[i] = source_list_unique.index(\"Original\")\n",
    "TV_data[\"Source_reference\"] = a"
   ]
  },
  {
   "cell_type": "code",
   "execution_count": 11,
   "metadata": {},
   "outputs": [],
   "source": [
    "from sklearn.tree import DecisionTreeClassifier\n",
    "from sklearn.model_selection import train_test_split\n",
    "from sklearn.metrics import confusion_matrix\n",
    "from sklearn.tree import plot_tree \n",
    "\n",
    "def decTree(y, x, depth):\n",
    "    X_train, X_test, Y_train, Y_test = train_test_split(x, y, test_size = 0.2)    \n",
    "    dectree = DecisionTreeClassifier(max_depth = depth)\n",
    "    dectree.fit(X_train, Y_train)\n",
    "    Y_train_pred = dectree.predict(X_train)\n",
    "    Y_test_pred = dectree.predict(X_test)\n",
    "    cm = confusion_matrix(Y_train, Y_train_pred)\n",
    "    TP = cm[1][1]/(cm[1][1] + cm[1][0])\n",
    "    FP = cm[0][1]/(cm[0][1] + cm[0][0])\n",
    "    cm1 = confusion_matrix(Y_test, Y_test_pred)\n",
    "    TP1 = cm1[1][1]/(cm1[1][1] + cm1[1][0])\n",
    "    FP1 = cm1[0][1]/(cm1[0][1] + cm1[0][0])\n",
    "    print(\"Goodness of Fit of Model \\tTrain Dataset\")\n",
    "    print(\"Classification Accuracy \\t:\", dectree.score(X_train, Y_train))\n",
    "    #print(\"True Positive Rate \\t:\", TP)\n",
    "    #print(\"False Positive Rate\\t:\", FP)\n",
    "    print()\n",
    "    print(\"Goodness of Fit of Model \\tTest Dataset\")\n",
    "    print(\"Classification Accuracy \\t:\", dectree.score(X_test, Y_test))\n",
    "    #print(\"True Positive Rate \\t:\", TP1)\n",
    "    #print(\"False Positive Rate\\t:\", FP1)\n",
    "    print()\n",
    "    f, axes = plt.subplots(1, 2, figsize=(24, 48))\n",
    "    sb.heatmap(confusion_matrix(Y_train, Y_train_pred),\n",
    "               annot = True, fmt=\".0f\", annot_kws={\"size\": 18}, ax = axes[0])\n",
    "    sb.heatmap(confusion_matrix(Y_test, Y_test_pred), \n",
    "               annot = True, fmt=\".0f\", annot_kws={\"size\": 18}, ax = axes[1])\n",
    "    f = plt.figure(figsize=(48,48))\n",
    "    plot_tree(dectree, filled=True, rounded=True, \n",
    "              feature_names=\"Fav%\", \n",
    "              class_names=[\"0\",\"1\",\"2\",\"3\",\"4\",\"5\"])"
   ]
  },
  {
   "cell_type": "code",
   "execution_count": null,
   "metadata": {
    "scrolled": false
   },
   "outputs": [],
   "source": [
    "decTree(TV_data[\"Source_reference\"].to_numpy().reshape(-1,1),TV_data[\"Fav%\"].to_numpy().reshape(-1,1),3)"
   ]
  },
  {
   "cell_type": "code",
   "execution_count": 73,
   "metadata": {
    "scrolled": true
   },
   "outputs": [],
   "source": [
    "genres_list_unique = [0] * 100\n",
    "index = 0;\n",
    "for i in range(len(genres)):\n",
    "    temp_list = genres.iloc[i].split(\",\")\n",
    "    for element in temp_list:\n",
    "        if(element.strip() not in genres_list_unique):\n",
    "            genres_list_unique[index] = element.strip()\n",
    "            index += 1\n",
    "genres_list_unique = [i for i in genres_list_unique if i != 0] \n",
    "genres_list_unique.insert(0, \"Null\") #genres_list_unique contains all possible genre, first index is NULL(no genre)"
   ]
  },
  {
   "cell_type": "code",
   "execution_count": 81,
   "metadata": {},
   "outputs": [],
   "source": [
    "a = [0] * len(TV_data)\n",
    "b = [0] * len(TV_data)\n",
    "for i in range(len(TV_data)):\n",
    "    word = TV_data[\"Genres\"].iloc[i].split(\",\")\n",
    "    a[i] = genres_list_unique.index(word[0].strip())\n",
    "    if(len(word)>1):\n",
    "        b[i] = genres_list_unique.index(word[1].strip())"
   ]
  },
  {
   "cell_type": "code",
   "execution_count": 82,
   "metadata": {},
   "outputs": [
    {
     "data": {
      "text/html": [
       "<div>\n",
       "<style scoped>\n",
       "    .dataframe tbody tr th:only-of-type {\n",
       "        vertical-align: middle;\n",
       "    }\n",
       "\n",
       "    .dataframe tbody tr th {\n",
       "        vertical-align: top;\n",
       "    }\n",
       "\n",
       "    .dataframe thead th {\n",
       "        text-align: right;\n",
       "    }\n",
       "</style>\n",
       "<table border=\"1\" class=\"dataframe\">\n",
       "  <thead>\n",
       "    <tr style=\"text-align: right;\">\n",
       "      <th></th>\n",
       "      <th>Anime Title</th>\n",
       "      <th>Type</th>\n",
       "      <th>Episodes</th>\n",
       "      <th>Aired</th>\n",
       "      <th>Producers</th>\n",
       "      <th>Studios</th>\n",
       "      <th>Source</th>\n",
       "      <th>Genres</th>\n",
       "      <th>Score</th>\n",
       "      <th>Members</th>\n",
       "      <th>Favorites</th>\n",
       "      <th>Fav%</th>\n",
       "      <th>Source_reference</th>\n",
       "      <th>genre_reference_1</th>\n",
       "      <th>genre_reference_2</th>\n",
       "    </tr>\n",
       "  </thead>\n",
       "  <tbody>\n",
       "    <tr>\n",
       "      <th>0</th>\n",
       "      <td>Fullmetal Alchemist: Brotherhood</td>\n",
       "      <td>TV</td>\n",
       "      <td>64</td>\n",
       "      <td>Apr 5, 2009 to Jul 4, 2010</td>\n",
       "      <td>Aniplex, Square Enix, Mainichi Broadcasting Sy...</td>\n",
       "      <td>Bones</td>\n",
       "      <td>Manga</td>\n",
       "      <td>Action, Military, Adventure, Comedy, Drama, Ma...</td>\n",
       "      <td>9.22</td>\n",
       "      <td>2025613</td>\n",
       "      <td>167812</td>\n",
       "      <td>8.285</td>\n",
       "      <td>0</td>\n",
       "      <td>1</td>\n",
       "      <td>2</td>\n",
       "    </tr>\n",
       "    <tr>\n",
       "      <th>1</th>\n",
       "      <td>Steins;Gate</td>\n",
       "      <td>TV</td>\n",
       "      <td>24</td>\n",
       "      <td>Apr 6, 2011 to Sep 14, 2011</td>\n",
       "      <td>Frontier Works, Media Factory, Movic, AT-X, Ka...</td>\n",
       "      <td>White Fox</td>\n",
       "      <td>Visual novel</td>\n",
       "      <td>Thriller, Sci-Fi</td>\n",
       "      <td>9.12</td>\n",
       "      <td>1636151</td>\n",
       "      <td>139909</td>\n",
       "      <td>8.551</td>\n",
       "      <td>1</td>\n",
       "      <td>9</td>\n",
       "      <td>10</td>\n",
       "    </tr>\n",
       "    <tr>\n",
       "      <th>2</th>\n",
       "      <td>Gintama°</td>\n",
       "      <td>TV</td>\n",
       "      <td>51</td>\n",
       "      <td>Apr 8, 2015 to Mar 30, 2016</td>\n",
       "      <td>TV Tokyo, Aniplex, Dentsu</td>\n",
       "      <td>Bandai Namco Pictures</td>\n",
       "      <td>Manga</td>\n",
       "      <td>Action, Comedy, Historical, Parody, Samurai, S...</td>\n",
       "      <td>9.11</td>\n",
       "      <td>363879</td>\n",
       "      <td>10353</td>\n",
       "      <td>2.845</td>\n",
       "      <td>0</td>\n",
       "      <td>1</td>\n",
       "      <td>4</td>\n",
       "    </tr>\n",
       "    <tr>\n",
       "      <th>3</th>\n",
       "      <td>Hunter x Hunter (2011)</td>\n",
       "      <td>TV</td>\n",
       "      <td>148</td>\n",
       "      <td>Oct 2, 2011 to Sep 24, 2014</td>\n",
       "      <td>VAP, Nippon Television Network, Shueisha</td>\n",
       "      <td>Madhouse</td>\n",
       "      <td>Manga</td>\n",
       "      <td>Action, Adventure, Fantasy, Shounen, Super Power</td>\n",
       "      <td>9.11</td>\n",
       "      <td>1459320</td>\n",
       "      <td>130492</td>\n",
       "      <td>8.942</td>\n",
       "      <td>0</td>\n",
       "      <td>1</td>\n",
       "      <td>3</td>\n",
       "    </tr>\n",
       "    <tr>\n",
       "      <th>5</th>\n",
       "      <td>Gintama'</td>\n",
       "      <td>TV</td>\n",
       "      <td>51</td>\n",
       "      <td>Apr 4, 2011 to Mar 26, 2012</td>\n",
       "      <td>TV Tokyo, Aniplex, Dentsu, Trinity Sound, Mira...</td>\n",
       "      <td>Sunrise</td>\n",
       "      <td>Manga</td>\n",
       "      <td>Action, Sci-Fi, Comedy, Historical, Parody, Sa...</td>\n",
       "      <td>9.08</td>\n",
       "      <td>337198</td>\n",
       "      <td>6013</td>\n",
       "      <td>1.783</td>\n",
       "      <td>0</td>\n",
       "      <td>1</td>\n",
       "      <td>10</td>\n",
       "    </tr>\n",
       "    <tr>\n",
       "      <th>...</th>\n",
       "      <td>...</td>\n",
       "      <td>...</td>\n",
       "      <td>...</td>\n",
       "      <td>...</td>\n",
       "      <td>...</td>\n",
       "      <td>...</td>\n",
       "      <td>...</td>\n",
       "      <td>...</td>\n",
       "      <td>...</td>\n",
       "      <td>...</td>\n",
       "      <td>...</td>\n",
       "      <td>...</td>\n",
       "      <td>...</td>\n",
       "      <td>...</td>\n",
       "      <td>...</td>\n",
       "    </tr>\n",
       "    <tr>\n",
       "      <th>9978</th>\n",
       "      <td>Barom One</td>\n",
       "      <td>TV</td>\n",
       "      <td>13</td>\n",
       "      <td>Dec 7, 2002 to Mar 22, 2003</td>\n",
       "      <td>AT-X</td>\n",
       "      <td>E&amp;G Films</td>\n",
       "      <td>Manga</td>\n",
       "      <td>Action, Sci-Fi, Supernatural, Shounen</td>\n",
       "      <td>5.25</td>\n",
       "      <td>1576</td>\n",
       "      <td>1</td>\n",
       "      <td>0.063</td>\n",
       "      <td>0</td>\n",
       "      <td>1</td>\n",
       "      <td>10</td>\n",
       "    </tr>\n",
       "    <tr>\n",
       "      <th>9983</th>\n",
       "      <td>Kurayami Santa</td>\n",
       "      <td>TV</td>\n",
       "      <td>13</td>\n",
       "      <td>Jul 5, 2015 to Sep 27, 2015</td>\n",
       "      <td>NaN</td>\n",
       "      <td>ILCA</td>\n",
       "      <td>Original</td>\n",
       "      <td>Historical, Supernatural</td>\n",
       "      <td>5.25</td>\n",
       "      <td>2392</td>\n",
       "      <td>6</td>\n",
       "      <td>0.251</td>\n",
       "      <td>5</td>\n",
       "      <td>11</td>\n",
       "      <td>19</td>\n",
       "    </tr>\n",
       "    <tr>\n",
       "      <th>9985</th>\n",
       "      <td>Omae wa Mada Gunma wo Shiranai</td>\n",
       "      <td>TV</td>\n",
       "      <td>12</td>\n",
       "      <td>Apr 2, 2018 to Jun 18, 2018</td>\n",
       "      <td>TOHO animation</td>\n",
       "      <td>Asahi Production</td>\n",
       "      <td>Web manga</td>\n",
       "      <td>Comedy, School</td>\n",
       "      <td>5.25</td>\n",
       "      <td>11760</td>\n",
       "      <td>2</td>\n",
       "      <td>0.017</td>\n",
       "      <td>0</td>\n",
       "      <td>4</td>\n",
       "      <td>24</td>\n",
       "    </tr>\n",
       "    <tr>\n",
       "      <th>9987</th>\n",
       "      <td>Peeping Life</td>\n",
       "      <td>TV</td>\n",
       "      <td>10</td>\n",
       "      <td>May 14, 2009 to Aug 11, 2009</td>\n",
       "      <td>CoMix Wave Films</td>\n",
       "      <td>NaN</td>\n",
       "      <td>Original</td>\n",
       "      <td>Slice of Life, Comedy</td>\n",
       "      <td>5.25</td>\n",
       "      <td>2481</td>\n",
       "      <td>3</td>\n",
       "      <td>0.121</td>\n",
       "      <td>5</td>\n",
       "      <td>18</td>\n",
       "      <td>4</td>\n",
       "    </tr>\n",
       "    <tr>\n",
       "      <th>9999</th>\n",
       "      <td>Kamikaze Kaitou Jeanne</td>\n",
       "      <td>TV</td>\n",
       "      <td>44</td>\n",
       "      <td>Feb 13, 1999 to Jan 29, 2000</td>\n",
       "      <td>NaN</td>\n",
       "      <td>Toei Animation</td>\n",
       "      <td>Manga</td>\n",
       "      <td>Adventure, Comedy, Demons, Drama, Fantasy, Mag...</td>\n",
       "      <td>7.45</td>\n",
       "      <td>44497</td>\n",
       "      <td>478</td>\n",
       "      <td>1.074</td>\n",
       "      <td>0</td>\n",
       "      <td>3</td>\n",
       "      <td>4</td>\n",
       "    </tr>\n",
       "  </tbody>\n",
       "</table>\n",
       "<p>3681 rows × 15 columns</p>\n",
       "</div>"
      ],
      "text/plain": [
       "                           Anime Title Type Episodes  \\\n",
       "0     Fullmetal Alchemist: Brotherhood   TV       64   \n",
       "1                          Steins;Gate   TV       24   \n",
       "2                             Gintama°   TV       51   \n",
       "3               Hunter x Hunter (2011)   TV      148   \n",
       "5                             Gintama'   TV       51   \n",
       "...                                ...  ...      ...   \n",
       "9978                         Barom One   TV       13   \n",
       "9983                    Kurayami Santa   TV       13   \n",
       "9985    Omae wa Mada Gunma wo Shiranai   TV       12   \n",
       "9987                      Peeping Life   TV       10   \n",
       "9999            Kamikaze Kaitou Jeanne   TV       44   \n",
       "\n",
       "                             Aired  \\\n",
       "0       Apr 5, 2009 to Jul 4, 2010   \n",
       "1      Apr 6, 2011 to Sep 14, 2011   \n",
       "2      Apr 8, 2015 to Mar 30, 2016   \n",
       "3      Oct 2, 2011 to Sep 24, 2014   \n",
       "5      Apr 4, 2011 to Mar 26, 2012   \n",
       "...                            ...   \n",
       "9978   Dec 7, 2002 to Mar 22, 2003   \n",
       "9983   Jul 5, 2015 to Sep 27, 2015   \n",
       "9985   Apr 2, 2018 to Jun 18, 2018   \n",
       "9987  May 14, 2009 to Aug 11, 2009   \n",
       "9999  Feb 13, 1999 to Jan 29, 2000   \n",
       "\n",
       "                                              Producers  \\\n",
       "0     Aniplex, Square Enix, Mainichi Broadcasting Sy...   \n",
       "1     Frontier Works, Media Factory, Movic, AT-X, Ka...   \n",
       "2                             TV Tokyo, Aniplex, Dentsu   \n",
       "3              VAP, Nippon Television Network, Shueisha   \n",
       "5     TV Tokyo, Aniplex, Dentsu, Trinity Sound, Mira...   \n",
       "...                                                 ...   \n",
       "9978                                               AT-X   \n",
       "9983                                                NaN   \n",
       "9985                                     TOHO animation   \n",
       "9987                                   CoMix Wave Films   \n",
       "9999                                                NaN   \n",
       "\n",
       "                    Studios        Source  \\\n",
       "0                     Bones         Manga   \n",
       "1                 White Fox  Visual novel   \n",
       "2     Bandai Namco Pictures         Manga   \n",
       "3                  Madhouse         Manga   \n",
       "5                   Sunrise         Manga   \n",
       "...                     ...           ...   \n",
       "9978              E&G Films         Manga   \n",
       "9983                   ILCA      Original   \n",
       "9985       Asahi Production     Web manga   \n",
       "9987                    NaN      Original   \n",
       "9999         Toei Animation         Manga   \n",
       "\n",
       "                                                 Genres  Score  Members  \\\n",
       "0     Action, Military, Adventure, Comedy, Drama, Ma...   9.22  2025613   \n",
       "1                                      Thriller, Sci-Fi   9.12  1636151   \n",
       "2     Action, Comedy, Historical, Parody, Samurai, S...   9.11   363879   \n",
       "3      Action, Adventure, Fantasy, Shounen, Super Power   9.11  1459320   \n",
       "5     Action, Sci-Fi, Comedy, Historical, Parody, Sa...   9.08   337198   \n",
       "...                                                 ...    ...      ...   \n",
       "9978              Action, Sci-Fi, Supernatural, Shounen   5.25     1576   \n",
       "9983                           Historical, Supernatural   5.25     2392   \n",
       "9985                                     Comedy, School   5.25    11760   \n",
       "9987                              Slice of Life, Comedy   5.25     2481   \n",
       "9999  Adventure, Comedy, Demons, Drama, Fantasy, Mag...   7.45    44497   \n",
       "\n",
       "      Favorites   Fav%  Source_reference  genre_reference_1  genre_reference_2  \n",
       "0        167812  8.285                 0                  1                  2  \n",
       "1        139909  8.551                 1                  9                 10  \n",
       "2         10353  2.845                 0                  1                  4  \n",
       "3        130492  8.942                 0                  1                  3  \n",
       "5          6013  1.783                 0                  1                 10  \n",
       "...         ...    ...               ...                ...                ...  \n",
       "9978          1  0.063                 0                  1                 10  \n",
       "9983          6  0.251                 5                 11                 19  \n",
       "9985          2  0.017                 0                  4                 24  \n",
       "9987          3  0.121                 5                 18                  4  \n",
       "9999        478  1.074                 0                  3                  4  \n",
       "\n",
       "[3681 rows x 15 columns]"
      ]
     },
     "execution_count": 82,
     "metadata": {},
     "output_type": "execute_result"
    }
   ],
   "source": [
    "TV_data[\"genre_reference_1\"] = a\n",
    "TV_data[\"genre_reference_2\"] = b\n",
    "TV_data"
   ]
  }
 ],
 "metadata": {
  "kernelspec": {
   "display_name": "Python 3",
   "language": "python",
   "name": "python3"
  },
  "language_info": {
   "codemirror_mode": {
    "name": "ipython",
    "version": 3
   },
   "file_extension": ".py",
   "mimetype": "text/x-python",
   "name": "python",
   "nbconvert_exporter": "python",
   "pygments_lexer": "ipython3",
   "version": "3.8.5"
  }
 },
 "nbformat": 4,
 "nbformat_minor": 4
}
