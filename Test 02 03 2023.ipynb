{
 "cells": [
  {
   "cell_type": "code",
   "execution_count": 2,
   "metadata": {},
   "outputs": [],
   "source": [
    "import numpy as np\n",
    "import pandas as pd"
   ]
  },
  {
   "cell_type": "code",
   "execution_count": 3,
   "metadata": {},
   "outputs": [],
   "source": [
    "raw_data = pd.read_csv(r\"C:\\Users\\user\\Desktop\\MAL Anime Top 10000 Details.csv.zip\")\n",
    "new_data = pd.DataFrame(raw_data[[\"Anime Title\",\"Type\",\"Episodes\",\"Aired\",\"Producers\",\"Studios\",\n",
    "                                  \"Source\",\"Genres\",\"Score\",\"Members\",\"Favorites\"]])\n",
    "TV_data = new_data.loc[new_data[\"Type\"]==\"TV\"]\n",
    "Movie_data = new_data.loc[new_data[\"Type\"]==\"Movie\"]"
   ]
  },
  {
   "cell_type": "markdown",
   "metadata": {},
   "source": [
    "Anime Title - title of the anime\n",
    "\n",
    "Type - Type of anime(OVA/TV/etc)\n",
    "\n",
    "Episodes - number of episodes\n",
    "\n",
    "Aired - time frame of airing\n",
    "\n",
    "Producers - producers of the anime\n",
    "\n",
    "Studios - studio responsible for anime creation\n",
    "\n",
    "Source - source from which anime was adapted from\n",
    "\n",
    "Genres - genre of anime\n",
    "\n",
    "Score - MAL score for the anime\n",
    "\n",
    "Members - number of members registered for anime\n",
    "\n",
    "Favourites - number of members who favourited the anime"
   ]
  },
  {
   "cell_type": "code",
   "execution_count": 6,
   "metadata": {},
   "outputs": [
    {
     "data": {
      "text/plain": [
       "<bound method NDFrame.describe of                            Anime Title Type Episodes  \\\n",
       "0     Fullmetal Alchemist: Brotherhood   TV       64   \n",
       "1                          Steins;Gate   TV       24   \n",
       "2                             Gintama°   TV       51   \n",
       "3               Hunter x Hunter (2011)   TV      148   \n",
       "5                             Gintama'   TV       51   \n",
       "...                                ...  ...      ...   \n",
       "9978                         Barom One   TV       13   \n",
       "9983                    Kurayami Santa   TV       13   \n",
       "9985    Omae wa Mada Gunma wo Shiranai   TV       12   \n",
       "9987                      Peeping Life   TV       10   \n",
       "9999            Kamikaze Kaitou Jeanne   TV       44   \n",
       "\n",
       "                             Aired  \\\n",
       "0       Apr 5, 2009 to Jul 4, 2010   \n",
       "1      Apr 6, 2011 to Sep 14, 2011   \n",
       "2      Apr 8, 2015 to Mar 30, 2016   \n",
       "3      Oct 2, 2011 to Sep 24, 2014   \n",
       "5      Apr 4, 2011 to Mar 26, 2012   \n",
       "...                            ...   \n",
       "9978   Dec 7, 2002 to Mar 22, 2003   \n",
       "9983   Jul 5, 2015 to Sep 27, 2015   \n",
       "9985   Apr 2, 2018 to Jun 18, 2018   \n",
       "9987  May 14, 2009 to Aug 11, 2009   \n",
       "9999  Feb 13, 1999 to Jan 29, 2000   \n",
       "\n",
       "                                              Producers  \\\n",
       "0     Aniplex, Square Enix, Mainichi Broadcasting Sy...   \n",
       "1     Frontier Works, Media Factory, Movic, AT-X, Ka...   \n",
       "2                             TV Tokyo, Aniplex, Dentsu   \n",
       "3              VAP, Nippon Television Network, Shueisha   \n",
       "5     TV Tokyo, Aniplex, Dentsu, Trinity Sound, Mira...   \n",
       "...                                                 ...   \n",
       "9978                                               AT-X   \n",
       "9983                                                NaN   \n",
       "9985                                     TOHO animation   \n",
       "9987                                   CoMix Wave Films   \n",
       "9999                                                NaN   \n",
       "\n",
       "                    Studios        Source  \\\n",
       "0                     Bones         Manga   \n",
       "1                 White Fox  Visual novel   \n",
       "2     Bandai Namco Pictures         Manga   \n",
       "3                  Madhouse         Manga   \n",
       "5                   Sunrise         Manga   \n",
       "...                     ...           ...   \n",
       "9978              E&G Films         Manga   \n",
       "9983                   ILCA      Original   \n",
       "9985       Asahi Production     Web manga   \n",
       "9987                    NaN      Original   \n",
       "9999         Toei Animation         Manga   \n",
       "\n",
       "                                                 Genres  Score  Members  \\\n",
       "0     Action, Military, Adventure, Comedy, Drama, Ma...   9.22  2025613   \n",
       "1                                      Thriller, Sci-Fi   9.12  1636151   \n",
       "2     Action, Comedy, Historical, Parody, Samurai, S...   9.11   363879   \n",
       "3      Action, Adventure, Fantasy, Shounen, Super Power   9.11  1459320   \n",
       "5     Action, Sci-Fi, Comedy, Historical, Parody, Sa...   9.08   337198   \n",
       "...                                                 ...    ...      ...   \n",
       "9978              Action, Sci-Fi, Supernatural, Shounen   5.25     1576   \n",
       "9983                           Historical, Supernatural   5.25     2392   \n",
       "9985                                     Comedy, School   5.25    11760   \n",
       "9987                              Slice of Life, Comedy   5.25     2481   \n",
       "9999  Adventure, Comedy, Demons, Drama, Fantasy, Mag...   7.45    44497   \n",
       "\n",
       "      Favorites  \n",
       "0        167812  \n",
       "1        139909  \n",
       "2         10353  \n",
       "3        130492  \n",
       "5          6013  \n",
       "...         ...  \n",
       "9978          1  \n",
       "9983          6  \n",
       "9985          2  \n",
       "9987          3  \n",
       "9999        478  \n",
       "\n",
       "[3681 rows x 11 columns]>"
      ]
     },
     "execution_count": 6,
     "metadata": {},
     "output_type": "execute_result"
    }
   ],
   "source": [
    "TV_data.describe"
   ]
  },
  {
   "cell_type": "code",
   "execution_count": null,
   "metadata": {},
   "outputs": [],
   "source": []
  }
 ],
 "metadata": {
  "kernelspec": {
   "display_name": "Python 3",
   "language": "python",
   "name": "python3"
  },
  "language_info": {
   "codemirror_mode": {
    "name": "ipython",
    "version": 3
   },
   "file_extension": ".py",
   "mimetype": "text/x-python",
   "name": "python",
   "nbconvert_exporter": "python",
   "pygments_lexer": "ipython3",
   "version": "3.8.5"
  }
 },
 "nbformat": 4,
 "nbformat_minor": 4
}
